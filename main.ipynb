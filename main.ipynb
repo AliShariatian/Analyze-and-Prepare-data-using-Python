{
 "cells": [
  {
   "cell_type": "markdown",
   "metadata": {},
   "source": [
    "# <a id='toc1_'></a>[Analyze and Prepare data using Python](#toc0_)"
   ]
  },
  {
   "attachments": {},
   "cell_type": "markdown",
   "metadata": {},
   "source": [
    "Lesson: 03\n",
    "\n",
    "Time: 00:00:00"
   ]
  },
  {
   "cell_type": "markdown",
   "metadata": {},
   "source": [
    "**Table of contents**<a id='toc0_'></a>    \n",
    "- [Analyze and Prepare data using Python](#toc1_)    \n",
    "  - [NumPy](#toc1_1_)    \n",
    "\n",
    "<!-- vscode-jupyter-toc-config\n",
    "\tnumbering=false\n",
    "\tanchor=true\n",
    "\tflat=false\n",
    "\tminLevel=1\n",
    "\tmaxLevel=6\n",
    "\t/vscode-jupyter-toc-config -->\n",
    "<!-- THIS CELL WILL BE REPLACED ON TOC UPDATE. DO NOT WRITE YOUR TEXT IN THIS CELL -->"
   ]
  },
  {
   "attachments": {},
   "cell_type": "markdown",
   "metadata": {},
   "source": [
    "---"
   ]
  },
  {
   "cell_type": "markdown",
   "metadata": {},
   "source": [
    "## <a id='toc1_1_'></a>[NumPy](#toc0_)"
   ]
  },
  {
   "cell_type": "code",
   "execution_count": 1,
   "metadata": {},
   "outputs": [],
   "source": [
    "import numpy as np"
   ]
  },
  {
   "attachments": {},
   "cell_type": "markdown",
   "metadata": {},
   "source": [
    "A array of given shape and type, filled with `fill_value`:"
   ]
  },
  {
   "cell_type": "code",
   "execution_count": 6,
   "metadata": {},
   "outputs": [
    {
     "data": {
      "text/plain": [
       "array([[6, 6, 6],\n",
       "       [6, 6, 6]])"
      ]
     },
     "execution_count": 6,
     "metadata": {},
     "output_type": "execute_result"
    }
   ],
   "source": [
    "np.full(shape=(2,3), fill_value=6)"
   ]
  },
  {
   "attachments": {},
   "cell_type": "markdown",
   "metadata": {},
   "source": [
    "Identity matrix/array:"
   ]
  },
  {
   "cell_type": "code",
   "execution_count": 7,
   "metadata": {},
   "outputs": [
    {
     "data": {
      "text/plain": [
       "array([[1., 0., 0.],\n",
       "       [0., 1., 0.],\n",
       "       [0., 0., 1.]])"
      ]
     },
     "execution_count": 7,
     "metadata": {},
     "output_type": "execute_result"
    }
   ],
   "source": [
    "np.identity(n=3)"
   ]
  },
  {
   "attachments": {},
   "cell_type": "markdown",
   "metadata": {},
   "source": [
    "Change typing:"
   ]
  },
  {
   "cell_type": "code",
   "execution_count": 13,
   "metadata": {},
   "outputs": [
    {
     "name": "stdout",
     "output_type": "stream",
     "text": [
      "[1.   3.2  0.8  4.   7.98]\n",
      "[1 3 0 4 7]\n"
     ]
    }
   ],
   "source": [
    "x = np.array([1.0, 3.2, 0.8, 4.0, 7.98])\n",
    "print(x)\n",
    "print(x.astype(np.int64))"
   ]
  },
  {
   "cell_type": "code",
   "execution_count": 14,
   "metadata": {},
   "outputs": [
    {
     "name": "stdout",
     "output_type": "stream",
     "text": [
      "[1 3 0 4 7]\n",
      "[1. 3. 0. 4. 7.]\n"
     ]
    }
   ],
   "source": [
    "y = np.array([1, 3, 0, 4, 7])\n",
    "print(y)\n",
    "print(y.astype(np.float64))"
   ]
  },
  {
   "attachments": {},
   "cell_type": "markdown",
   "metadata": {},
   "source": [
    "_Slice_ and _change_ the original array value:"
   ]
  },
  {
   "cell_type": "code",
   "execution_count": 41,
   "metadata": {},
   "outputs": [
    {
     "name": "stdout",
     "output_type": "stream",
     "text": [
      "[0 1 2 3 4 5 6 7 8 9]\n",
      "[2 3 4 5]\n",
      "\n",
      "[ 2 17  4  5]\n",
      "[ 0  1  2 17  4  5  6  7  8  9]\n",
      "\n",
      "[64 64 64 64]\n",
      "[ 0  1 64 64 64 64  6  7  8  9]\n"
     ]
    }
   ],
   "source": [
    "arr = np.arange(10)\n",
    "print(arr)  # The original values of arr\n",
    "\n",
    "x = arr[2:6]\n",
    "print(x)\n",
    "print()\n",
    "\n",
    "x[1] = 17\n",
    "print(x)\n",
    "print(arr)  # The values of the array after Slicing and changing the value\n",
    "print()\n",
    "\n",
    "x[:] = 64\n",
    "print(x)\n",
    "print(arr)  # The values of the array after Slicing and changing the value"
   ]
  },
  {
   "attachments": {},
   "cell_type": "markdown",
   "metadata": {},
   "source": [
    "But with use the `copy()`:"
   ]
  },
  {
   "cell_type": "code",
   "execution_count": 40,
   "metadata": {},
   "outputs": [
    {
     "name": "stdout",
     "output_type": "stream",
     "text": [
      "[0 1 2 3 4 5 6 7 8 9]\n",
      "[2 3 4 5]\n",
      "\n",
      "[ 2 17  4  5]\n",
      "[0 1 2 3 4 5 6 7 8 9]\n",
      "\n",
      "[64 64 64 64]\n",
      "[0 1 2 3 4 5 6 7 8 9]\n"
     ]
    }
   ],
   "source": [
    "arr = np.arange(10)\n",
    "print(arr)  # The original values of arr\n",
    "\n",
    "x = arr[2:6].copy()\n",
    "print(x)\n",
    "print()\n",
    "\n",
    "x[1] = 17\n",
    "print(x)\n",
    "print(arr)  # The values of the array after Slicing and changing the value\n",
    "print()\n",
    "\n",
    "x[:] = 64\n",
    "print(x)\n",
    "print(arr)  # The values of the array after Slicing and changing the value"
   ]
  },
  {
   "attachments": {},
   "cell_type": "markdown",
   "metadata": {},
   "source": [
    "Boolean indexing _(Return True values of a array on other array)_:"
   ]
  },
  {
   "cell_type": "code",
   "execution_count": 65,
   "metadata": {},
   "outputs": [
    {
     "name": "stdout",
     "output_type": "stream",
     "text": [
      "['ali' 'sara' 'taha' 'ali']\n",
      "[ True False False  True]\n"
     ]
    }
   ],
   "source": [
    "names = np.array(['ali', 'sara', 'taha', 'ali'])\n",
    "print(names)\n",
    "print(names == 'ali')"
   ]
  },
  {
   "cell_type": "code",
   "execution_count": 66,
   "metadata": {},
   "outputs": [
    {
     "name": "stdout",
     "output_type": "stream",
     "text": [
      "[[6 2 6]\n",
      " [3 9 8]\n",
      " [8 8 7]\n",
      " [8 2 6]]\n",
      "\n",
      "[[6 2 6]\n",
      " [8 2 6]]\n",
      "\n",
      "[[-7 -3 -7]\n",
      " [-9 -3 -7]]\n"
     ]
    }
   ],
   "source": [
    "data = np.random.randint(low=10, size=(4, 3))\n",
    "print(data)\n",
    "print()\n",
    "\n",
    "print(data[names == 'ali'])\n",
    "print()\n",
    "\n",
    "print(~data[names == 'ali'])  # ~ is Not symbol"
   ]
  },
  {
   "cell_type": "code",
   "execution_count": 67,
   "metadata": {},
   "outputs": [
    {
     "name": "stdout",
     "output_type": "stream",
     "text": [
      "[[2 6]\n",
      " [2 6]]\n"
     ]
    }
   ],
   "source": [
    "print(data[names == 'ali', 1:])"
   ]
  },
  {
   "cell_type": "code",
   "execution_count": 68,
   "metadata": {},
   "outputs": [
    {
     "name": "stdout",
     "output_type": "stream",
     "text": [
      "[ True False  True  True]\n",
      "[[6 2 6]\n",
      " [8 8 7]\n",
      " [8 2 6]]\n",
      "\n",
      "[False False False False]\n",
      "[]\n"
     ]
    }
   ],
   "source": [
    "mask1 = (names == 'ali') | (names == 'taha')\n",
    "mask2 = (names == 'ali') & (names == 'taha')\n",
    "\n",
    "print(mask1)\n",
    "print(data[mask1])\n",
    "print()\n",
    "\n",
    "print(mask2)\n",
    "print(data[mask2])"
   ]
  },
  {
   "attachments": {},
   "cell_type": "markdown",
   "metadata": {},
   "source": [
    "Convert Negative values to Zero:"
   ]
  },
  {
   "cell_type": "code",
   "execution_count": 78,
   "metadata": {},
   "outputs": [
    {
     "name": "stdout",
     "output_type": "stream",
     "text": [
      "[[ 0.77211152 -0.76597199  0.75102038  0.33594753]\n",
      " [-0.68683318  1.85224896  0.75384187  1.84777921]\n",
      " [-0.25003729  1.63777146  0.89882982 -0.60706259]]\n",
      "\n",
      "[[0.77211152 0.         0.75102038 0.33594753]\n",
      " [0.         1.85224896 0.75384187 1.84777921]\n",
      " [0.         1.63777146 0.89882982 0.        ]]\n"
     ]
    }
   ],
   "source": [
    "x = np.random.randn(3, 4)\n",
    "print(x)\n",
    "print()\n",
    "\n",
    "x[x < 0] = 0\n",
    "print(x)"
   ]
  },
  {
   "attachments": {},
   "cell_type": "markdown",
   "metadata": {},
   "source": [
    "Fancy indexing (_Indexing using integer arrays_):"
   ]
  },
  {
   "cell_type": "code",
   "execution_count": 99,
   "metadata": {},
   "outputs": [
    {
     "name": "stdout",
     "output_type": "stream",
     "text": [
      "[[ 1.  1.  1.]\n",
      " [ 6.  6.  6.]\n",
      " [11. 11. 11.]\n",
      " [16. 16. 16.]\n",
      " [21. 21. 21.]]\n"
     ]
    }
   ],
   "source": [
    "# Create data\n",
    "arr = np.empty(shape=(5, 3))\n",
    "\n",
    "for i in range(arr.shape[0]):  # arr.shape[0] == 5\n",
    "    arr[i] = 5*i+1  # is a arbitrary value\n",
    "    \n",
    "print(arr)"
   ]
  },
  {
   "cell_type": "code",
   "execution_count": 104,
   "metadata": {},
   "outputs": [
    {
     "name": "stdout",
     "output_type": "stream",
     "text": [
      "[[ 1.  1.  1.]\n",
      " [11. 11. 11.]\n",
      " [16. 16. 16.]\n",
      " [ 1.  1.  1.]\n",
      " [11. 11. 11.]\n",
      " [ 6.  6.  6.]]\n"
     ]
    }
   ],
   "source": [
    "# Fancy indexing (with use the two brackets)\n",
    "print( arr[[0, 2, -2, -5, -3, 1]] )"
   ]
  },
  {
   "cell_type": "markdown",
   "metadata": {},
   "source": [
    "A new type of Slicing:"
   ]
  },
  {
   "cell_type": "code",
   "execution_count": 115,
   "metadata": {},
   "outputs": [
    {
     "name": "stdout",
     "output_type": "stream",
     "text": [
      "[[ 0  1  2  3  4]\n",
      " [ 5  6  7  8  9]\n",
      " [10 11 12 13 14]\n",
      " [15 16 17 18 19]\n",
      " [20 21 22 23 24]\n",
      " [25 26 27 28 29]\n",
      " [30 31 32 33 34]]\n",
      "\n",
      "[32  4 13]\n",
      "\n",
      "[[10 13 11]\n",
      " [30 33 31]]\n"
     ]
    }
   ],
   "source": [
    "a = np.arange(35).reshape((7, 5))\n",
    "print(a)\n",
    "print()\n",
    "\n",
    "print( a[[6, 0, 2], [2, 4, 3]] )  # First bracket is Row numbers and second is Column numbers\n",
    "print()\n",
    "\n",
    "print( a[[2, 6]][:, [0, 3, 1]] )"
   ]
  },
  {
   "attachments": {},
   "cell_type": "markdown",
   "metadata": {},
   "source": [
    "Transposing arrays and Swapping axes:"
   ]
  },
  {
   "cell_type": "code",
   "execution_count": 119,
   "metadata": {},
   "outputs": [
    {
     "name": "stdout",
     "output_type": "stream",
     "text": [
      "[[0 1 2 3]\n",
      " [4 5 6 7]]\n",
      "\n",
      "[[0 4]\n",
      " [1 5]\n",
      " [2 6]\n",
      " [3 7]]\n"
     ]
    }
   ],
   "source": [
    "arr = np.arange(8).reshape((2, 4))\n",
    "print(arr)\n",
    "print()\n",
    "\n",
    "print(arr.T)  # Transpose"
   ]
  },
  {
   "cell_type": "code",
   "execution_count": 124,
   "metadata": {},
   "outputs": [
    {
     "name": "stdout",
     "output_type": "stream",
     "text": [
      "[[[ 0  1  2  3  4]\n",
      "  [ 5  6  7  8  9]\n",
      "  [10 11 12 13 14]\n",
      "  [15 16 17 18 19]]\n",
      "\n",
      " [[20 21 22 23 24]\n",
      "  [25 26 27 28 29]\n",
      "  [30 31 32 33 34]\n",
      "  [35 36 37 38 39]]\n",
      "\n",
      " [[40 41 42 43 44]\n",
      "  [45 46 47 48 49]\n",
      "  [50 51 52 53 54]\n",
      "  [55 56 57 58 59]]]\n",
      "\n",
      "(3, 4, 5)\n"
     ]
    }
   ],
   "source": [
    "z = np.arange(60).reshape((3, 4, 5))  # 3*4*5 == 60\n",
    "print(z)\n",
    "print()\n",
    "\n",
    "print(z.shape)"
   ]
  },
  {
   "cell_type": "code",
   "execution_count": 127,
   "metadata": {},
   "outputs": [
    {
     "name": "stdout",
     "output_type": "stream",
     "text": [
      "[[[ 0  1  2  3  4]\n",
      "  [20 21 22 23 24]\n",
      "  [40 41 42 43 44]]\n",
      "\n",
      " [[ 5  6  7  8  9]\n",
      "  [25 26 27 28 29]\n",
      "  [45 46 47 48 49]]\n",
      "\n",
      " [[10 11 12 13 14]\n",
      "  [30 31 32 33 34]\n",
      "  [50 51 52 53 54]]\n",
      "\n",
      " [[15 16 17 18 19]\n",
      "  [35 36 37 38 39]\n",
      "  [55 56 57 58 59]]]\n",
      "\n",
      "(4, 3, 5)\n"
     ]
    }
   ],
   "source": [
    "# Axes swapping\n",
    "axe = z.swapaxes(0, 1)  # change the Original axes: (3, 4, 5) -> (4, 3, 5)\n",
    "print(axe)\n",
    "print()\n",
    "\n",
    "print(axe.shape)"
   ]
  },
  {
   "cell_type": "code",
   "execution_count": 129,
   "metadata": {},
   "outputs": [
    {
     "name": "stdout",
     "output_type": "stream",
     "text": [
      "[[[ 0  1  2  3  4]\n",
      "  [20 21 22 23 24]\n",
      "  [40 41 42 43 44]]\n",
      "\n",
      " [[ 5  6  7  8  9]\n",
      "  [25 26 27 28 29]\n",
      "  [45 46 47 48 49]]\n",
      "\n",
      " [[10 11 12 13 14]\n",
      "  [30 31 32 33 34]\n",
      "  [50 51 52 53 54]]\n",
      "\n",
      " [[15 16 17 18 19]\n",
      "  [35 36 37 38 39]\n",
      "  [55 56 57 58 59]]]\n"
     ]
    }
   ],
   "source": [
    "# A way same with z.swapaxes(0, 1)\n",
    "print(z.transpose((1, 0, 2)))"
   ]
  },
  {
   "attachments": {},
   "cell_type": "markdown",
   "metadata": {},
   "source": [
    "Separation of Decimal and Integer part:"
   ]
  },
  {
   "cell_type": "code",
   "execution_count": 132,
   "metadata": {},
   "outputs": [
    {
     "name": "stdout",
     "output_type": "stream",
     "text": [
      "(array([ 0.6,  0.5, -0. ]), array([ 2.,  8., -9.]))\n",
      "[ 0.6  0.5 -0. ]\n",
      "[ 2.  8. -9.]\n"
     ]
    }
   ],
   "source": [
    "x = np.array([2.6, 8.5, -9])\n",
    "\n",
    "d, i = np.modf(x)\n",
    "\n",
    "print(np.modf(x))\n",
    "print(d)  # Decimal part\n",
    "print(i)  # Integer part"
   ]
  },
  {
   "attachments": {},
   "cell_type": "markdown",
   "metadata": {},
   "source": [
    "Maximum Values of Multiple arrays:"
   ]
  },
  {
   "cell_type": "code",
   "execution_count": 135,
   "metadata": {},
   "outputs": [
    {
     "name": "stdout",
     "output_type": "stream",
     "text": [
      "[-0.06623655  0.55547904 -2.48191337  2.92861181]\n",
      "[-0.17258407  1.05849755  0.39515491  0.09070186]\n",
      "\n",
      "[-0.06623655  1.05849755  0.39515491  2.92861181]\n"
     ]
    }
   ],
   "source": [
    "x = np.random.randn(4)\n",
    "y = np.random.randn(4)\n",
    "\n",
    "print(x)\n",
    "print(y)\n",
    "print()\n",
    "\n",
    "print(np.maximum(x, y))  # x and y must be have same length"
   ]
  },
  {
   "attachments": {},
   "cell_type": "markdown",
   "metadata": {},
   "source": [
    "Where ( `np.where()` ):"
   ]
  },
  {
   "cell_type": "code",
   "execution_count": 140,
   "metadata": {},
   "outputs": [
    {
     "name": "stdout",
     "output_type": "stream",
     "text": [
      "[1, 7, 8]\n"
     ]
    }
   ],
   "source": [
    "# without Where function (is bad)\n",
    "arr1 = np.array([1, 5, 8])\n",
    "arr2 = np.array([4, 7, 12])\n",
    "condition = np.array([True, False, True])\n",
    "\n",
    "r = [(x if cond else y) for x, y, cond in zip(arr1, arr2, condition)]\n",
    "\n",
    "print(r)"
   ]
  },
  {
   "cell_type": "code",
   "execution_count": 142,
   "metadata": {},
   "outputs": [
    {
     "name": "stdout",
     "output_type": "stream",
     "text": [
      "[1 7 8]\n"
     ]
    }
   ],
   "source": [
    "# with Where function (is good)\n",
    "res = np.where(condition, arr1, arr2)  # arr1 If condition Else arr2\n",
    "print(res)"
   ]
  },
  {
   "attachments": {},
   "cell_type": "markdown",
   "metadata": {},
   "source": [
    "another example:"
   ]
  },
  {
   "cell_type": "code",
   "execution_count": 165,
   "metadata": {},
   "outputs": [
    {
     "name": "stdout",
     "output_type": "stream",
     "text": [
      "[[ 0.72039162 -0.74075494 -0.7425139 ]\n",
      " [-0.02910374  0.62051568 -0.96183579]]\n",
      "\n",
      "[[ True False False]\n",
      " [False  True False]]\n",
      "\n",
      "[[13 -1 -1]\n",
      " [-1 13 -1]]\n",
      "\n",
      "[[ 1.         -0.74075494 -0.7425139 ]\n",
      " [-0.02910374  1.         -0.96183579]]\n"
     ]
    }
   ],
   "source": [
    "x = np.random.randn(2, 3)\n",
    "print(x)\n",
    "print()\n",
    "\n",
    "print(x > 0)\n",
    "print()\n",
    "\n",
    "print(np.where(x > 0, 13, -1))  # 13 If x > 0 Else -1\n",
    "print()\n",
    "\n",
    "print(np.where(x > 0, 1, x))  # 1 If x > 0 Else x"
   ]
  },
  {
   "cell_type": "markdown",
   "metadata": {},
   "source": []
  },
  {
   "cell_type": "code",
   "execution_count": null,
   "metadata": {},
   "outputs": [],
   "source": []
  }
 ],
 "metadata": {
  "kernelspec": {
   "display_name": "Python 3",
   "language": "python",
   "name": "python3"
  },
  "language_info": {
   "codemirror_mode": {
    "name": "ipython",
    "version": 3
   },
   "file_extension": ".py",
   "mimetype": "text/x-python",
   "name": "python",
   "nbconvert_exporter": "python",
   "pygments_lexer": "ipython3",
   "version": "3.11.0"
  },
  "orig_nbformat": 4
 },
 "nbformat": 4,
 "nbformat_minor": 2
}
