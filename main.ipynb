{
 "cells": [
  {
   "cell_type": "markdown",
   "metadata": {},
   "source": [
    "# <a id='toc1_'></a>[Analyze and Prepare data using Python](#toc0_)"
   ]
  },
  {
   "attachments": {},
   "cell_type": "markdown",
   "metadata": {},
   "source": [
    "Lesson: 07\n",
    "\n",
    "Time: 00:00:00"
   ]
  },
  {
   "cell_type": "markdown",
   "metadata": {},
   "source": [
    "**Table of contents**<a id='toc0_'></a>    \n",
    "- [Analyze and Prepare data using Python](#toc1_)    \n",
    "  - [NumPy](#toc1_1_)    \n",
    "  - [Pandas](#toc1_2_)    \n",
    "\n",
    "<!-- vscode-jupyter-toc-config\n",
    "\tnumbering=false\n",
    "\tanchor=true\n",
    "\tflat=false\n",
    "\tminLevel=1\n",
    "\tmaxLevel=6\n",
    "\t/vscode-jupyter-toc-config -->\n",
    "<!-- THIS CELL WILL BE REPLACED ON TOC UPDATE. DO NOT WRITE YOUR TEXT IN THIS CELL -->"
   ]
  },
  {
   "attachments": {},
   "cell_type": "markdown",
   "metadata": {},
   "source": [
    "---"
   ]
  },
  {
   "cell_type": "markdown",
   "metadata": {},
   "source": [
    "## <a id='toc1_1_'></a>[NumPy](#toc0_)"
   ]
  },
  {
   "cell_type": "code",
   "execution_count": 2,
   "metadata": {},
   "outputs": [],
   "source": [
    "import numpy as np"
   ]
  },
  {
   "attachments": {},
   "cell_type": "markdown",
   "metadata": {},
   "source": [
    "A array of given shape and type, filled with `fill_value`:"
   ]
  },
  {
   "cell_type": "code",
   "execution_count": 6,
   "metadata": {},
   "outputs": [
    {
     "data": {
      "text/plain": [
       "array([[6, 6, 6],\n",
       "       [6, 6, 6]])"
      ]
     },
     "execution_count": 6,
     "metadata": {},
     "output_type": "execute_result"
    }
   ],
   "source": [
    "np.full(shape=(2, 3), fill_value=6)\n"
   ]
  },
  {
   "attachments": {},
   "cell_type": "markdown",
   "metadata": {},
   "source": [
    "Identity matrix/array:"
   ]
  },
  {
   "cell_type": "code",
   "execution_count": 7,
   "metadata": {},
   "outputs": [
    {
     "data": {
      "text/plain": [
       "array([[1., 0., 0.],\n",
       "       [0., 1., 0.],\n",
       "       [0., 0., 1.]])"
      ]
     },
     "execution_count": 7,
     "metadata": {},
     "output_type": "execute_result"
    }
   ],
   "source": [
    "np.identity(n=3)\n"
   ]
  },
  {
   "attachments": {},
   "cell_type": "markdown",
   "metadata": {},
   "source": [
    "Change typing:"
   ]
  },
  {
   "cell_type": "code",
   "execution_count": 13,
   "metadata": {},
   "outputs": [
    {
     "name": "stdout",
     "output_type": "stream",
     "text": [
      "[1.   3.2  0.8  4.   7.98]\n",
      "[1 3 0 4 7]\n"
     ]
    }
   ],
   "source": [
    "x = np.array([1.0, 3.2, 0.8, 4.0, 7.98])\n",
    "print(x)\n",
    "print(x.astype(np.int64))\n"
   ]
  },
  {
   "cell_type": "code",
   "execution_count": 14,
   "metadata": {},
   "outputs": [
    {
     "name": "stdout",
     "output_type": "stream",
     "text": [
      "[1 3 0 4 7]\n",
      "[1. 3. 0. 4. 7.]\n"
     ]
    }
   ],
   "source": [
    "y = np.array([1, 3, 0, 4, 7])\n",
    "print(y)\n",
    "print(y.astype(np.float64))\n"
   ]
  },
  {
   "attachments": {},
   "cell_type": "markdown",
   "metadata": {},
   "source": [
    "_Slice_ and _change_ the original array value:"
   ]
  },
  {
   "cell_type": "code",
   "execution_count": 41,
   "metadata": {},
   "outputs": [
    {
     "name": "stdout",
     "output_type": "stream",
     "text": [
      "[0 1 2 3 4 5 6 7 8 9]\n",
      "[2 3 4 5]\n",
      "\n",
      "[ 2 17  4  5]\n",
      "[ 0  1  2 17  4  5  6  7  8  9]\n",
      "\n",
      "[64 64 64 64]\n",
      "[ 0  1 64 64 64 64  6  7  8  9]\n"
     ]
    }
   ],
   "source": [
    "arr = np.arange(10)\n",
    "print(arr)  # The original values of arr\n",
    "\n",
    "x = arr[2:6]\n",
    "print(x)\n",
    "print()\n",
    "\n",
    "x[1] = 17\n",
    "print(x)\n",
    "print(arr)  # The values of the array after Slicing and changing the value\n",
    "print()\n",
    "\n",
    "x[:] = 64\n",
    "print(x)\n",
    "print(arr)  # The values of the array after Slicing and changing the value\n"
   ]
  },
  {
   "attachments": {},
   "cell_type": "markdown",
   "metadata": {},
   "source": [
    "But with use the `copy()`:"
   ]
  },
  {
   "cell_type": "code",
   "execution_count": 40,
   "metadata": {},
   "outputs": [
    {
     "name": "stdout",
     "output_type": "stream",
     "text": [
      "[0 1 2 3 4 5 6 7 8 9]\n",
      "[2 3 4 5]\n",
      "\n",
      "[ 2 17  4  5]\n",
      "[0 1 2 3 4 5 6 7 8 9]\n",
      "\n",
      "[64 64 64 64]\n",
      "[0 1 2 3 4 5 6 7 8 9]\n"
     ]
    }
   ],
   "source": [
    "arr = np.arange(10)\n",
    "print(arr)  # The original values of arr\n",
    "\n",
    "x = arr[2:6].copy()\n",
    "print(x)\n",
    "print()\n",
    "\n",
    "x[1] = 17\n",
    "print(x)\n",
    "print(arr)  # The values of the array after Slicing and changing the value\n",
    "print()\n",
    "\n",
    "x[:] = 64\n",
    "print(x)\n",
    "print(arr)  # The values of the array after Slicing and changing the value\n"
   ]
  },
  {
   "attachments": {},
   "cell_type": "markdown",
   "metadata": {},
   "source": [
    "Boolean indexing _(Return True values of a array on other array)_:"
   ]
  },
  {
   "cell_type": "code",
   "execution_count": 65,
   "metadata": {},
   "outputs": [
    {
     "name": "stdout",
     "output_type": "stream",
     "text": [
      "['ali' 'sara' 'taha' 'ali']\n",
      "[ True False False  True]\n"
     ]
    }
   ],
   "source": [
    "names = np.array(['ali', 'sara', 'taha', 'ali'])\n",
    "print(names)\n",
    "print(names == 'ali')\n"
   ]
  },
  {
   "cell_type": "code",
   "execution_count": 66,
   "metadata": {},
   "outputs": [
    {
     "name": "stdout",
     "output_type": "stream",
     "text": [
      "[[6 2 6]\n",
      " [3 9 8]\n",
      " [8 8 7]\n",
      " [8 2 6]]\n",
      "\n",
      "[[6 2 6]\n",
      " [8 2 6]]\n",
      "\n",
      "[[-7 -3 -7]\n",
      " [-9 -3 -7]]\n"
     ]
    }
   ],
   "source": [
    "data = np.random.randint(low=10, size=(4, 3))\n",
    "print(data)\n",
    "print()\n",
    "\n",
    "print(data[names == 'ali'])\n",
    "print()\n",
    "\n",
    "print(~data[names == 'ali'])  # ~ is Not symbol\n"
   ]
  },
  {
   "cell_type": "code",
   "execution_count": 67,
   "metadata": {},
   "outputs": [
    {
     "name": "stdout",
     "output_type": "stream",
     "text": [
      "[[2 6]\n",
      " [2 6]]\n"
     ]
    }
   ],
   "source": [
    "print(data[names == 'ali', 1:])\n"
   ]
  },
  {
   "cell_type": "code",
   "execution_count": 68,
   "metadata": {},
   "outputs": [
    {
     "name": "stdout",
     "output_type": "stream",
     "text": [
      "[ True False  True  True]\n",
      "[[6 2 6]\n",
      " [8 8 7]\n",
      " [8 2 6]]\n",
      "\n",
      "[False False False False]\n",
      "[]\n"
     ]
    }
   ],
   "source": [
    "mask1 = (names == 'ali') | (names == 'taha')\n",
    "mask2 = (names == 'ali') & (names == 'taha')\n",
    "\n",
    "print(mask1)\n",
    "print(data[mask1])\n",
    "print()\n",
    "\n",
    "print(mask2)\n",
    "print(data[mask2])\n"
   ]
  },
  {
   "attachments": {},
   "cell_type": "markdown",
   "metadata": {},
   "source": [
    "Convert Negative values to Zero:"
   ]
  },
  {
   "cell_type": "code",
   "execution_count": 78,
   "metadata": {},
   "outputs": [
    {
     "name": "stdout",
     "output_type": "stream",
     "text": [
      "[[ 0.77211152 -0.76597199  0.75102038  0.33594753]\n",
      " [-0.68683318  1.85224896  0.75384187  1.84777921]\n",
      " [-0.25003729  1.63777146  0.89882982 -0.60706259]]\n",
      "\n",
      "[[0.77211152 0.         0.75102038 0.33594753]\n",
      " [0.         1.85224896 0.75384187 1.84777921]\n",
      " [0.         1.63777146 0.89882982 0.        ]]\n"
     ]
    }
   ],
   "source": [
    "x = np.random.randn(3, 4)\n",
    "print(x)\n",
    "print()\n",
    "\n",
    "x[x < 0] = 0\n",
    "print(x)\n"
   ]
  },
  {
   "attachments": {},
   "cell_type": "markdown",
   "metadata": {},
   "source": [
    "Fancy indexing (_Indexing using integer arrays_):"
   ]
  },
  {
   "cell_type": "code",
   "execution_count": 99,
   "metadata": {},
   "outputs": [
    {
     "name": "stdout",
     "output_type": "stream",
     "text": [
      "[[ 1.  1.  1.]\n",
      " [ 6.  6.  6.]\n",
      " [11. 11. 11.]\n",
      " [16. 16. 16.]\n",
      " [21. 21. 21.]]\n"
     ]
    }
   ],
   "source": [
    "# Create data\n",
    "arr = np.empty(shape=(5, 3))\n",
    "\n",
    "for i in range(arr.shape[0]):  # arr.shape[0] == 5\n",
    "    arr[i] = 5*i+1  # is a arbitrary value\n",
    "\n",
    "print(arr)\n"
   ]
  },
  {
   "cell_type": "code",
   "execution_count": 104,
   "metadata": {},
   "outputs": [
    {
     "name": "stdout",
     "output_type": "stream",
     "text": [
      "[[ 1.  1.  1.]\n",
      " [11. 11. 11.]\n",
      " [16. 16. 16.]\n",
      " [ 1.  1.  1.]\n",
      " [11. 11. 11.]\n",
      " [ 6.  6.  6.]]\n"
     ]
    }
   ],
   "source": [
    "# Fancy indexing (with use the two brackets)\n",
    "print(arr[[0, 2, -2, -5, -3, 1]])\n"
   ]
  },
  {
   "cell_type": "markdown",
   "metadata": {},
   "source": [
    "A new type of Slicing:"
   ]
  },
  {
   "cell_type": "code",
   "execution_count": 115,
   "metadata": {},
   "outputs": [
    {
     "name": "stdout",
     "output_type": "stream",
     "text": [
      "[[ 0  1  2  3  4]\n",
      " [ 5  6  7  8  9]\n",
      " [10 11 12 13 14]\n",
      " [15 16 17 18 19]\n",
      " [20 21 22 23 24]\n",
      " [25 26 27 28 29]\n",
      " [30 31 32 33 34]]\n",
      "\n",
      "[32  4 13]\n",
      "\n",
      "[[10 13 11]\n",
      " [30 33 31]]\n"
     ]
    }
   ],
   "source": [
    "a = np.arange(35).reshape((7, 5))\n",
    "print(a)\n",
    "print()\n",
    "\n",
    "# First bracket is Row numbers and second is Column numbers\n",
    "print(a[[6, 0, 2], [2, 4, 3]])\n",
    "print()\n",
    "\n",
    "print(a[[2, 6]][:, [0, 3, 1]])\n"
   ]
  },
  {
   "attachments": {},
   "cell_type": "markdown",
   "metadata": {},
   "source": [
    "Transposing arrays and Swapping axes:"
   ]
  },
  {
   "cell_type": "code",
   "execution_count": 119,
   "metadata": {},
   "outputs": [
    {
     "name": "stdout",
     "output_type": "stream",
     "text": [
      "[[0 1 2 3]\n",
      " [4 5 6 7]]\n",
      "\n",
      "[[0 4]\n",
      " [1 5]\n",
      " [2 6]\n",
      " [3 7]]\n"
     ]
    }
   ],
   "source": [
    "arr = np.arange(8).reshape((2, 4))\n",
    "print(arr)\n",
    "print()\n",
    "\n",
    "print(arr.T)  # Transpose\n"
   ]
  },
  {
   "cell_type": "code",
   "execution_count": 124,
   "metadata": {},
   "outputs": [
    {
     "name": "stdout",
     "output_type": "stream",
     "text": [
      "[[[ 0  1  2  3  4]\n",
      "  [ 5  6  7  8  9]\n",
      "  [10 11 12 13 14]\n",
      "  [15 16 17 18 19]]\n",
      "\n",
      " [[20 21 22 23 24]\n",
      "  [25 26 27 28 29]\n",
      "  [30 31 32 33 34]\n",
      "  [35 36 37 38 39]]\n",
      "\n",
      " [[40 41 42 43 44]\n",
      "  [45 46 47 48 49]\n",
      "  [50 51 52 53 54]\n",
      "  [55 56 57 58 59]]]\n",
      "\n",
      "(3, 4, 5)\n"
     ]
    }
   ],
   "source": [
    "z = np.arange(60).reshape((3, 4, 5))  # 3*4*5 == 60\n",
    "print(z)\n",
    "print()\n",
    "\n",
    "print(z.shape)\n"
   ]
  },
  {
   "cell_type": "code",
   "execution_count": 127,
   "metadata": {},
   "outputs": [
    {
     "name": "stdout",
     "output_type": "stream",
     "text": [
      "[[[ 0  1  2  3  4]\n",
      "  [20 21 22 23 24]\n",
      "  [40 41 42 43 44]]\n",
      "\n",
      " [[ 5  6  7  8  9]\n",
      "  [25 26 27 28 29]\n",
      "  [45 46 47 48 49]]\n",
      "\n",
      " [[10 11 12 13 14]\n",
      "  [30 31 32 33 34]\n",
      "  [50 51 52 53 54]]\n",
      "\n",
      " [[15 16 17 18 19]\n",
      "  [35 36 37 38 39]\n",
      "  [55 56 57 58 59]]]\n",
      "\n",
      "(4, 3, 5)\n"
     ]
    }
   ],
   "source": [
    "# Axes swapping\n",
    "axe = z.swapaxes(0, 1)  # change the Original axes: (3, 4, 5) -> (4, 3, 5)\n",
    "print(axe)\n",
    "print()\n",
    "\n",
    "print(axe.shape)\n"
   ]
  },
  {
   "cell_type": "code",
   "execution_count": 129,
   "metadata": {},
   "outputs": [
    {
     "name": "stdout",
     "output_type": "stream",
     "text": [
      "[[[ 0  1  2  3  4]\n",
      "  [20 21 22 23 24]\n",
      "  [40 41 42 43 44]]\n",
      "\n",
      " [[ 5  6  7  8  9]\n",
      "  [25 26 27 28 29]\n",
      "  [45 46 47 48 49]]\n",
      "\n",
      " [[10 11 12 13 14]\n",
      "  [30 31 32 33 34]\n",
      "  [50 51 52 53 54]]\n",
      "\n",
      " [[15 16 17 18 19]\n",
      "  [35 36 37 38 39]\n",
      "  [55 56 57 58 59]]]\n"
     ]
    }
   ],
   "source": [
    "# A way same with z.swapaxes(0, 1)\n",
    "print(z.transpose((1, 0, 2)))\n"
   ]
  },
  {
   "attachments": {},
   "cell_type": "markdown",
   "metadata": {},
   "source": [
    "Separation of Decimal and Integer part:"
   ]
  },
  {
   "cell_type": "code",
   "execution_count": 132,
   "metadata": {},
   "outputs": [
    {
     "name": "stdout",
     "output_type": "stream",
     "text": [
      "(array([ 0.6,  0.5, -0. ]), array([ 2.,  8., -9.]))\n",
      "[ 0.6  0.5 -0. ]\n",
      "[ 2.  8. -9.]\n"
     ]
    }
   ],
   "source": [
    "x = np.array([2.6, 8.5, -9])\n",
    "\n",
    "d, i = np.modf(x)\n",
    "\n",
    "print(np.modf(x))\n",
    "print(d)  # Decimal part\n",
    "print(i)  # Integer part\n"
   ]
  },
  {
   "attachments": {},
   "cell_type": "markdown",
   "metadata": {},
   "source": [
    "Maximum Values of Multiple arrays:"
   ]
  },
  {
   "cell_type": "code",
   "execution_count": 135,
   "metadata": {},
   "outputs": [
    {
     "name": "stdout",
     "output_type": "stream",
     "text": [
      "[-0.06623655  0.55547904 -2.48191337  2.92861181]\n",
      "[-0.17258407  1.05849755  0.39515491  0.09070186]\n",
      "\n",
      "[-0.06623655  1.05849755  0.39515491  2.92861181]\n"
     ]
    }
   ],
   "source": [
    "x = np.random.randn(4)\n",
    "y = np.random.randn(4)\n",
    "\n",
    "print(x)\n",
    "print(y)\n",
    "print()\n",
    "\n",
    "print(np.maximum(x, y))  # x and y must be have same length\n"
   ]
  },
  {
   "attachments": {},
   "cell_type": "markdown",
   "metadata": {},
   "source": [
    "Where ( `np.where()` ):"
   ]
  },
  {
   "cell_type": "code",
   "execution_count": 140,
   "metadata": {},
   "outputs": [
    {
     "name": "stdout",
     "output_type": "stream",
     "text": [
      "[1, 7, 8]\n"
     ]
    }
   ],
   "source": [
    "# without Where function (is bad)\n",
    "arr1 = np.array([1, 5, 8])\n",
    "arr2 = np.array([4, 7, 12])\n",
    "condition = np.array([True, False, True])\n",
    "\n",
    "r = [(x if cond else y) for x, y, cond in zip(arr1, arr2, condition)]\n",
    "\n",
    "print(r)\n"
   ]
  },
  {
   "cell_type": "code",
   "execution_count": 142,
   "metadata": {},
   "outputs": [
    {
     "name": "stdout",
     "output_type": "stream",
     "text": [
      "[1 7 8]\n"
     ]
    }
   ],
   "source": [
    "# with Where function (is good)\n",
    "res = np.where(condition, arr1, arr2)  # arr1 If condition Else arr2\n",
    "print(res)\n"
   ]
  },
  {
   "attachments": {},
   "cell_type": "markdown",
   "metadata": {},
   "source": [
    "another example:"
   ]
  },
  {
   "cell_type": "code",
   "execution_count": 165,
   "metadata": {},
   "outputs": [
    {
     "name": "stdout",
     "output_type": "stream",
     "text": [
      "[[ 0.72039162 -0.74075494 -0.7425139 ]\n",
      " [-0.02910374  0.62051568 -0.96183579]]\n",
      "\n",
      "[[ True False False]\n",
      " [False  True False]]\n",
      "\n",
      "[[13 -1 -1]\n",
      " [-1 13 -1]]\n",
      "\n",
      "[[ 1.         -0.74075494 -0.7425139 ]\n",
      " [-0.02910374  1.         -0.96183579]]\n"
     ]
    }
   ],
   "source": [
    "x = np.random.randn(2, 3)\n",
    "print(x)\n",
    "print()\n",
    "\n",
    "print(x > 0)\n",
    "print()\n",
    "\n",
    "print(np.where(x > 0, 13, -1))  # 13 If x > 0 Else -1\n",
    "print()\n",
    "\n",
    "print(np.where(x > 0, 1, x))  # 1 If x > 0 Else x\n"
   ]
  },
  {
   "attachments": {},
   "cell_type": "markdown",
   "metadata": {},
   "source": [
    "Mathematical and Statistical methods:"
   ]
  },
  {
   "cell_type": "code",
   "execution_count": 20,
   "metadata": {},
   "outputs": [
    {
     "name": "stdout",
     "output_type": "stream",
     "text": [
      "[-2  1  2  3  4  7  8]\n"
     ]
    }
   ],
   "source": [
    "arr = np.array([7, 8, -2, 4, 2, 3, 1])\n",
    "\n",
    "print(np.sort(arr))\n"
   ]
  },
  {
   "cell_type": "code",
   "execution_count": 21,
   "metadata": {},
   "outputs": [
    {
     "name": "stdout",
     "output_type": "stream",
     "text": [
      "8\n",
      "8\n",
      "1\n"
     ]
    }
   ],
   "source": [
    "print(np.max(arr))  # Return the maximum of an array.\n",
    "print(np.amax(arr))  # Return the maximum of an array.\n",
    "print(np.argmax(arr))  # Returns the indices of the maximum values.\n"
   ]
  },
  {
   "cell_type": "code",
   "execution_count": 23,
   "metadata": {},
   "outputs": [
    {
     "name": "stdout",
     "output_type": "stream",
     "text": [
      "nan\n",
      "4.4\n",
      "\n",
      "nan\n",
      "8.0\n",
      "\n",
      "nan\n",
      "22.0\n",
      "\n",
      "nan\n",
      "7.44\n"
     ]
    }
   ],
   "source": [
    "# Calculations on an array that has missing values (NaN)\n",
    "x = np.array([1, 4, np.nan, 8, 7, np.nan, 2])\n",
    "\n",
    "print(np.mean(x))  # Use mean func (is bad)\n",
    "print(np.nanmean(x))  # NanMean func, ignoring NaN values (is good)\n",
    "print()\n",
    "\n",
    "print(np.max(x))  # is bad\n",
    "print(np.nanmax(x))  # is good\n",
    "print()\n",
    "\n",
    "print(np.sum(x))  # is bad\n",
    "print(np.nansum(x))  # is good\n",
    "print()\n",
    "\n",
    "print(np.var(x))  # is bad\n",
    "print(np.nanvar(x))  # is good\n",
    "\n",
    "# and ...\n"
   ]
  },
  {
   "cell_type": "code",
   "execution_count": 38,
   "metadata": {},
   "outputs": [
    {
     "name": "stdout",
     "output_type": "stream",
     "text": [
      "21.234375\n",
      "\n",
      "4.608077147791691\n",
      "\n",
      "6.625\n",
      "\n",
      "6.034090909090909\n",
      "\n",
      "5.5\n",
      "\n",
      "3.75\n",
      "[ 1.    3.75  4.1   5.5   8.25 17.  ]\n",
      "\n",
      "3.75\n",
      "[ 1.    3.75  4.1   5.5   8.25 17.  ]\n"
     ]
    }
   ],
   "source": [
    "# Some of Statistical functions\n",
    "y = np.array([3, 5, 9, 8, 1, 4, 17, 6])\n",
    "\n",
    "print(np.var(y))\n",
    "print()\n",
    "\n",
    "print(np.std(y))\n",
    "print()\n",
    "\n",
    "print(np.mean(y))  # Arithmetic mean.\n",
    "print()\n",
    "\n",
    "print(np.average(y, weights=[2, 1, 4, 3, 3, 1, 0.6, 3]))  # Weighted mean.\n",
    "print()\n",
    "\n",
    "print(np.median(y))\n",
    "print()\n",
    "\n",
    "# q value: Percentile or sequence of percentiles to compute, which must be between 0 and 1 inclusive.\n",
    "print(np.quantile(y, q=0.25))\n",
    "print(np.quantile(y, q=[0, 0.25, 0.3, 0.5, 0.75, 1]))\n",
    "print()\n",
    "\n",
    "# q value: Percentile or sequence of percentiles to compute, which must be between 0 and 100 inclusive.\n",
    "print(np.percentile(y, q=25))\n",
    "print(np.percentile(y, q=[0, 25, 30, 50, 75, 100]))\n",
    "\n",
    "# and ...\n"
   ]
  },
  {
   "cell_type": "code",
   "execution_count": 40,
   "metadata": {},
   "outputs": [
    {
     "name": "stdout",
     "output_type": "stream",
     "text": [
      "10\n",
      "\n",
      "[ 1  3  6 10]\n"
     ]
    }
   ],
   "source": [
    "# Sum and CumSum\n",
    "arr = np.array([1, 2, 3, 4])\n",
    "\n",
    "print(np.sum(arr))  # sum.\n",
    "print()\n",
    "\n",
    "print(np.cumsum(arr))  # Cumulative sum of the elements.\n"
   ]
  },
  {
   "attachments": {},
   "cell_type": "markdown",
   "metadata": {},
   "source": [
    "Another example:"
   ]
  },
  {
   "cell_type": "code",
   "execution_count": 50,
   "metadata": {},
   "outputs": [
    {
     "name": "stdout",
     "output_type": "stream",
     "text": [
      "[[1 2 3]\n",
      " [4 5 6]\n",
      " [7 8 9]]\n",
      "\n",
      "[12 15 18]\n",
      "\n",
      "[ 6 15 24]\n",
      "\n",
      "[[ 1  2  3]\n",
      " [ 5  7  9]\n",
      " [12 15 18]]\n",
      "\n",
      "[[ 1  3  6]\n",
      " [ 4  9 15]\n",
      " [ 7 15 24]]\n",
      "\n",
      "[ 28  80 162]\n",
      "\n",
      "[[  1   2   3]\n",
      " [  4  10  18]\n",
      " [ 28  80 162]]\n",
      "\n"
     ]
    }
   ],
   "source": [
    "x = np.arange(1, 10).reshape((3, 3))\n",
    "print(x)\n",
    "print()\n",
    "\n",
    "print(np.sum(x, axis=0))  # Sum of Columns\n",
    "print()\n",
    "\n",
    "print(np.sum(x, axis=1))  # Sum of Rows\n",
    "print()\n",
    "\n",
    "print(np.cumsum(x, axis=0))  # CumSum of Columns\n",
    "print()\n",
    "\n",
    "print(np.cumsum(x, axis=1))  # CumSum of Rows\n",
    "print()\n",
    "\n",
    "print(np.prod(x, axis=0))  # Product of Columns\n",
    "print()\n",
    "\n",
    "print(np.cumprod(x, axis=0))  # CumProd of Columns\n",
    "print()\n"
   ]
  },
  {
   "attachments": {},
   "cell_type": "markdown",
   "metadata": {},
   "source": [
    "`all()` and `any()` function:"
   ]
  },
  {
   "cell_type": "code",
   "execution_count": 54,
   "metadata": {},
   "outputs": [
    {
     "name": "stdout",
     "output_type": "stream",
     "text": [
      "True\n",
      "True\n",
      "\n",
      "False\n",
      "False\n"
     ]
    }
   ],
   "source": [
    "a = np.array([True, True, False])\n",
    "\n",
    "print(a.any())  # Is at least one of elements true?\n",
    "print(np.any(a))\n",
    "print()\n",
    "\n",
    "print(a.all())  # Are all elements True?\n",
    "print(np.all(a))\n",
    "\n",
    "# in above code, a is numpy array and all/any is inner python function.\n"
   ]
  },
  {
   "cell_type": "code",
   "execution_count": 58,
   "metadata": {},
   "outputs": [
    {
     "name": "stdout",
     "output_type": "stream",
     "text": [
      "False\n",
      "\n",
      "True\n",
      "\n"
     ]
    },
    {
     "ename": "AttributeError",
     "evalue": "'list' object has no attribute 'all'",
     "output_type": "error",
     "traceback": [
      "\u001b[1;31m---------------------------------------------------------------------------\u001b[0m",
      "\u001b[1;31mAttributeError\u001b[0m                            Traceback (most recent call last)",
      "\u001b[1;32mc:\\Users\\DELL\\Desktop\\Analyze and Prepare data using Python\\main.ipynb Cell 54\u001b[0m in \u001b[0;36m9\n\u001b[0;32m      <a href='vscode-notebook-cell:/c%3A/Users/DELL/Desktop/Analyze%20and%20Prepare%20data%20using%20Python/main.ipynb#Y106sZmlsZQ%3D%3D?line=5'>6</a>\u001b[0m \u001b[39mprint\u001b[39m(np\u001b[39m.\u001b[39many(b))\n\u001b[0;32m      <a href='vscode-notebook-cell:/c%3A/Users/DELL/Desktop/Analyze%20and%20Prepare%20data%20using%20Python/main.ipynb#Y106sZmlsZQ%3D%3D?line=6'>7</a>\u001b[0m \u001b[39mprint\u001b[39m()\n\u001b[1;32m----> <a href='vscode-notebook-cell:/c%3A/Users/DELL/Desktop/Analyze%20and%20Prepare%20data%20using%20Python/main.ipynb#Y106sZmlsZQ%3D%3D?line=8'>9</a>\u001b[0m \u001b[39mprint\u001b[39m(b\u001b[39m.\u001b[39;49mall())  \u001b[39m# error\u001b[39;00m\n\u001b[0;32m     <a href='vscode-notebook-cell:/c%3A/Users/DELL/Desktop/Analyze%20and%20Prepare%20data%20using%20Python/main.ipynb#Y106sZmlsZQ%3D%3D?line=9'>10</a>\u001b[0m \u001b[39mprint\u001b[39m(b\u001b[39m.\u001b[39many())  \u001b[39m# error\u001b[39;00m\n",
      "\u001b[1;31mAttributeError\u001b[0m: 'list' object has no attribute 'all'"
     ]
    }
   ],
   "source": [
    "b = [0, 2, -3]  # in True/False ->  [False, True, True]\n",
    "\n",
    "print(np.all(b))\n",
    "print()\n",
    "\n",
    "print(np.any(b))\n",
    "print()\n",
    "\n",
    "print(b.all())  # error\n",
    "print(b.any())  # error\n"
   ]
  },
  {
   "attachments": {},
   "cell_type": "markdown",
   "metadata": {},
   "source": [
    "Unique function:"
   ]
  },
  {
   "cell_type": "code",
   "execution_count": 65,
   "metadata": {},
   "outputs": [
    {
     "name": "stdout",
     "output_type": "stream",
     "text": [
      "[1 3 4 5 7]\n",
      "\n",
      "(array([1, 3, 4, 5, 7]), array([0, 7, 1, 3, 2], dtype=int64))\n",
      "\n",
      "(array([1, 3, 4, 5, 7]), array([2, 1, 2, 3, 1], dtype=int64))\n"
     ]
    }
   ],
   "source": [
    "arr = np.array([1, 4, 7, 5, 5, 4, 1, 3, 5])\n",
    "\n",
    "print(np.unique(arr))\n",
    "print()\n",
    "\n",
    "print(np.unique(arr, return_index=True))\n",
    "print()\n",
    "\n",
    "print(np.unique(arr, return_counts=True))\n"
   ]
  },
  {
   "attachments": {},
   "cell_type": "markdown",
   "metadata": {},
   "source": [
    "more in `sort` function:"
   ]
  },
  {
   "cell_type": "code",
   "execution_count": 71,
   "metadata": {},
   "outputs": [
    {
     "name": "stdout",
     "output_type": "stream",
     "text": [
      "[('alex', 17.5, 35), ('sara', 15.75, 27), ('tomas', 16.25, 27)]\n",
      "<class 'list'>\n",
      "\n",
      "<class 'numpy.ndarray'>\n",
      "\n",
      "[(b'alex', 17.5 , 35) (b'sara', 15.75, 27) (b'tomas', 16.25, 27)]\n",
      "[(b'sara', 15.75, 27) (b'tomas', 16.25, 27) (b'alex', 17.5 , 35)]\n",
      "[(b'sara', 15.75, 27) (b'tomas', 16.25, 27) (b'alex', 17.5 , 35)]\n",
      "\n",
      "[(b'sara', 15.75, 27) (b'tomas', 16.25, 27) (b'alex', 17.5 , 35)]\n"
     ]
    }
   ],
   "source": [
    "data = [('alex', 17.5, 35), ('sara', 15.75, 27), ('tomas', 16.25, 27)]\n",
    "print(data)\n",
    "print(type(data))\n",
    "print()\n",
    "\n",
    "# name and type of any columns\n",
    "dtype = [('name', 'S10'), ('score', float), ('age', int)]\n",
    "\n",
    "arr = np.array(data, dtype=dtype)\n",
    "print(type(arr))\n",
    "print()\n",
    "\n",
    "print(np.sort(arr, order='name'))\n",
    "print(np.sort(arr, order='score'))\n",
    "print(np.sort(arr, order='age'))\n",
    "print()\n",
    "\n",
    "print(np.sort(arr, order=['age', 'score']))\n"
   ]
  },
  {
   "attachments": {},
   "cell_type": "markdown",
   "metadata": {},
   "source": [
    "`in1d` function:"
   ]
  },
  {
   "cell_type": "code",
   "execution_count": 78,
   "metadata": {},
   "outputs": [
    {
     "name": "stdout",
     "output_type": "stream",
     "text": [
      "[False  True False  True False False  True]\n",
      "[ True False  True False  True  True False]\n",
      "\n",
      "[7 4 7]\n",
      "[0 1 2 5]\n"
     ]
    }
   ],
   "source": [
    "x = np.array([0, 7, 1, 4, 2, 5, 7])\n",
    "y = np.array([3, 4, 7])\n",
    "\n",
    "print(np.in1d(x, y))\n",
    "print(np.in1d(x, y, invert=True))\n",
    "print()\n",
    "\n",
    "print(x[np.in1d(x, y)])  # What x elements are in the y?\n",
    "print(x[np.in1d(x, y, invert=True)])  # What x elements are not in the y?"
   ]
  },
  {
   "attachments": {},
   "cell_type": "markdown",
   "metadata": {},
   "source": [
    "Save and Load:"
   ]
  },
  {
   "cell_type": "code",
   "execution_count": 55,
   "metadata": {},
   "outputs": [],
   "source": [
    "a = np.array([4,6,9])\n",
    "\n",
    "np.save(file='myfile.npy', arr=a)  #Save an array to a binary file in NumPy .npy format."
   ]
  },
  {
   "cell_type": "code",
   "execution_count": 56,
   "metadata": {},
   "outputs": [
    {
     "name": "stdout",
     "output_type": "stream",
     "text": [
      "[4 6 9]\n"
     ]
    }
   ],
   "source": [
    "x = np.load(file='myfile.npy')  # Load arrays or pickled objects from .npy, .npz or pickled files.\n",
    "\n",
    "print(x)"
   ]
  },
  {
   "attachments": {},
   "cell_type": "markdown",
   "metadata": {},
   "source": [
    "the best way for handle file:"
   ]
  },
  {
   "cell_type": "code",
   "execution_count": 57,
   "metadata": {},
   "outputs": [],
   "source": [
    "# Save\n",
    "with open(file='myfile.npy', mode='wb') as f:  # mode wb: Write Binary\n",
    "    np.save(file=f, arr=a)"
   ]
  },
  {
   "cell_type": "code",
   "execution_count": 58,
   "metadata": {},
   "outputs": [
    {
     "name": "stdout",
     "output_type": "stream",
     "text": [
      "[4 6 9]\n"
     ]
    }
   ],
   "source": [
    "# Load\n",
    "with open(file='myfile.npy', mode='rb') as f:  # mode rb: Read Binary\n",
    "    x = np.load(file=f)\n",
    "    \n",
    "print(x)"
   ]
  },
  {
   "attachments": {},
   "cell_type": "markdown",
   "metadata": {},
   "source": [
    "Close the open file:"
   ]
  },
  {
   "cell_type": "code",
   "execution_count": 59,
   "metadata": {},
   "outputs": [],
   "source": [
    "f.close()  # The close() method closes an open file."
   ]
  },
  {
   "attachments": {},
   "cell_type": "markdown",
   "metadata": {},
   "source": [
    "Save in `txt` or `csv` file _(is slow)_:"
   ]
  },
  {
   "cell_type": "code",
   "execution_count": 63,
   "metadata": {},
   "outputs": [],
   "source": [
    "arr = np.array([1.02, 5.3, 7, 3.1574])\n",
    "\n",
    "np.savetxt('myfile.csv', X=arr, delimiter=',', fmt='%0.2f')  # Save an array to a text, csv and etc. file."
   ]
  },
  {
   "cell_type": "code",
   "execution_count": 64,
   "metadata": {},
   "outputs": [
    {
     "name": "stdout",
     "output_type": "stream",
     "text": [
      "[1.02 5.3  7.   3.16]\n"
     ]
    }
   ],
   "source": [
    "d = np.loadtxt('myfile.csv', delimiter=',')  # Load data from a text, csv and etc. file.\n",
    "\n",
    "print(d)"
   ]
  },
  {
   "attachments": {},
   "cell_type": "markdown",
   "metadata": {},
   "source": [
    "Save several arrays:"
   ]
  },
  {
   "cell_type": "code",
   "execution_count": 60,
   "metadata": {},
   "outputs": [],
   "source": [
    "arr1 = np.array([1, 2])\n",
    "arr2 = np.array([3, 4, 5])\n",
    "\n",
    "np.savez('myfile.npz', x=arr1, y=arr2)  # Save several arrays into a single file in uncompressed .npz format."
   ]
  },
  {
   "cell_type": "code",
   "execution_count": 61,
   "metadata": {},
   "outputs": [
    {
     "name": "stdout",
     "output_type": "stream",
     "text": [
      "<numpy.lib.npyio.NpzFile object at 0x0000029A7CE7E610>\n",
      "\n",
      "['x', 'y']\n",
      "\n",
      "[1 2]\n",
      "[3 4 5]\n"
     ]
    }
   ],
   "source": [
    "data = np.load('myfile.npz')  # Load arrays or pickled objects from .npy, .npz or pickled files.\n",
    "\n",
    "print(data)\n",
    "print()\n",
    "\n",
    "print(data.files)\n",
    "print()\n",
    "\n",
    "print(data['x'])\n",
    "print(data['y'])"
   ]
  },
  {
   "attachments": {},
   "cell_type": "markdown",
   "metadata": {},
   "source": [
    "Close the open file:"
   ]
  },
  {
   "cell_type": "code",
   "execution_count": 62,
   "metadata": {},
   "outputs": [],
   "source": [
    "data.close()"
   ]
  },
  {
   "attachments": {},
   "cell_type": "markdown",
   "metadata": {},
   "source": [
    "`inner` and `outer` product:"
   ]
  },
  {
   "cell_type": "code",
   "execution_count": 91,
   "metadata": {},
   "outputs": [
    {
     "name": "stdout",
     "output_type": "stream",
     "text": [
      "17\n",
      "\n",
      "[[ 5  6  0]\n",
      " [10 12  0]\n",
      " [15 18  0]]\n"
     ]
    }
   ],
   "source": [
    "a = np.array([1, 2, 3])\n",
    "b = np.array([5, 6, 0])\n",
    "\n",
    "# 1*5 + 2*6 + 3*0 == 17\n",
    "print(np.inner(a, b))  # Inner product of two arrays.\n",
    "print()\n",
    "\n",
    "print(np.outer(a, b))  # Compute the outer product of two vectors.\n"
   ]
  },
  {
   "cell_type": "code",
   "execution_count": 93,
   "metadata": {},
   "outputs": [
    {
     "name": "stdout",
     "output_type": "stream",
     "text": [
      "[[19 22]\n",
      " [43 50]]\n",
      "\n",
      "[[19 22]\n",
      " [43 50]]\n"
     ]
    }
   ],
   "source": [
    "x = np.array([[1, 2], \n",
    "              [3, 4]])\n",
    "\n",
    "y = np.array([[5, 6], \n",
    "              [7, 8]])\n",
    "\n",
    "\n",
    "print(np.dot(x, y))  # Dot product of two arrays.\n",
    "print()\n",
    "\n",
    "print(x @ y)  # Dot product of two arrays."
   ]
  },
  {
   "attachments": {},
   "cell_type": "markdown",
   "metadata": {},
   "source": [
    "`inverse` and `pseudo-inverse` of a matrix: "
   ]
  },
  {
   "cell_type": "code",
   "execution_count": 94,
   "metadata": {},
   "outputs": [
    {
     "name": "stdout",
     "output_type": "stream",
     "text": [
      "[[-2.   1. ]\n",
      " [ 1.5 -0.5]]\n",
      "\n",
      "[[-2.   1. ]\n",
      " [ 1.5 -0.5]]\n"
     ]
    }
   ],
   "source": [
    "# Compute the (multiplicative) inverse of a matrix:\n",
    "print(np.linalg.inv(x))\n",
    "print()\n",
    "\n",
    "# Compute the (Moore-Penrose) pseudo-inverse of a matrix:\n",
    "print(np.linalg.pinv(x))"
   ]
  },
  {
   "attachments": {},
   "cell_type": "markdown",
   "metadata": {},
   "source": [
    "Compute the `qr factorization` of a matrix:"
   ]
  },
  {
   "cell_type": "code",
   "execution_count": 112,
   "metadata": {},
   "outputs": [
    {
     "name": "stdout",
     "output_type": "stream",
     "text": [
      "[[1 2]\n",
      " [3 4]]\n"
     ]
    }
   ],
   "source": [
    "m = np.array([[1, 2], \n",
    "              [3, 4]])\n",
    "\n",
    "print(m)"
   ]
  },
  {
   "cell_type": "code",
   "execution_count": 114,
   "metadata": {},
   "outputs": [
    {
     "name": "stdout",
     "output_type": "stream",
     "text": [
      "[[-0.31622777 -0.9486833 ]\n",
      " [-0.9486833   0.31622777]]\n",
      "\n",
      "[[-3.16227766 -4.42718872]\n",
      " [ 0.         -0.63245553]]\n"
     ]
    }
   ],
   "source": [
    "q, r = np.linalg.qr(m)  # Compute the qr factorization of a matrix.\n",
    "\n",
    "print(q)\n",
    "print()\n",
    "print(r)"
   ]
  },
  {
   "cell_type": "code",
   "execution_count": 115,
   "metadata": {},
   "outputs": [
    {
     "name": "stdout",
     "output_type": "stream",
     "text": [
      "True\n"
     ]
    }
   ],
   "source": [
    "print(np.allclose(m, np.dot(q, r)))  # m does equal qr."
   ]
  },
  {
   "cell_type": "markdown",
   "metadata": {},
   "source": [
    "## <a id='toc1_2_'></a>[Pandas](#toc0_)"
   ]
  },
  {
   "cell_type": "code",
   "execution_count": 3,
   "metadata": {},
   "outputs": [],
   "source": [
    "import pandas as pd"
   ]
  },
  {
   "attachments": {},
   "cell_type": "markdown",
   "metadata": {},
   "source": [
    "Series:"
   ]
  },
  {
   "cell_type": "code",
   "execution_count": 123,
   "metadata": {},
   "outputs": [
    {
     "name": "stdout",
     "output_type": "stream",
     "text": [
      "0    12\n",
      "1     8\n",
      "2    19\n",
      "3    17\n",
      "dtype: int64\n"
     ]
    }
   ],
   "source": [
    "a = pd.Series([12, 8, 19, 17])\n",
    "\n",
    "print(a)"
   ]
  },
  {
   "cell_type": "code",
   "execution_count": 162,
   "metadata": {},
   "outputs": [
    {
     "name": "stdout",
     "output_type": "stream",
     "text": [
      "ali     12\n",
      "taha     8\n",
      "sara    19\n",
      "omid    17\n",
      "dtype: int64\n"
     ]
    }
   ],
   "source": [
    "score = pd.Series([12, 8, 19, 17],\n",
    "              index=['ali', 'taha', 'sara', 'omid'])\n",
    "\n",
    "print(score)"
   ]
  },
  {
   "cell_type": "code",
   "execution_count": 163,
   "metadata": {},
   "outputs": [
    {
     "name": "stdout",
     "output_type": "stream",
     "text": [
      "ali     12.0\n",
      "reza     NaN\n",
      "sara    19.0\n",
      "omid    17.0\n",
      "dtype: float64\n"
     ]
    }
   ],
   "source": [
    "score = score.reindex(['ali', 'reza', 'sara', 'omid'])\n",
    "\n",
    "print(score)"
   ]
  },
  {
   "cell_type": "code",
   "execution_count": 164,
   "metadata": {},
   "outputs": [
    {
     "name": "stdout",
     "output_type": "stream",
     "text": [
      "12.0\n",
      "19.0\n"
     ]
    }
   ],
   "source": [
    "print(score['ali'])\n",
    "print(score[2])"
   ]
  },
  {
   "cell_type": "code",
   "execution_count": 165,
   "metadata": {},
   "outputs": [
    {
     "name": "stdout",
     "output_type": "stream",
     "text": [
      "ali     12.0\n",
      "reza    20.0\n",
      "sara    19.0\n",
      "omid    17.0\n",
      "dtype: float64\n"
     ]
    }
   ],
   "source": [
    "score['reza'] = 20\n",
    "\n",
    "print(score)"
   ]
  },
  {
   "cell_type": "code",
   "execution_count": 166,
   "metadata": {},
   "outputs": [
    {
     "name": "stdout",
     "output_type": "stream",
     "text": [
      "Index(['ali', 'reza', 'sara', 'omid'], dtype='object')\n",
      "\n",
      "[12. 20. 19. 17.]\n",
      "\n"
     ]
    }
   ],
   "source": [
    "print(score.index)\n",
    "print()\n",
    "\n",
    "print(score.values)\n",
    "print()"
   ]
  },
  {
   "cell_type": "code",
   "execution_count": 167,
   "metadata": {},
   "outputs": [
    {
     "name": "stdout",
     "output_type": "stream",
     "text": [
      "Names\n",
      "ali     12.0\n",
      "reza    20.0\n",
      "sara    19.0\n",
      "omid    17.0\n",
      "dtype: float64\n"
     ]
    }
   ],
   "source": [
    "score.index.name = 'Names'\n",
    "\n",
    "print(score)"
   ]
  },
  {
   "cell_type": "code",
   "execution_count": 168,
   "metadata": {},
   "outputs": [
    {
     "name": "stdout",
     "output_type": "stream",
     "text": [
      "Names\n",
      "ali     12.0\n",
      "reza    20.0\n",
      "sara    19.0\n",
      "omid    17.0\n",
      "Name: Grade, dtype: float64\n"
     ]
    }
   ],
   "source": [
    "score.name = 'Grade'\n",
    "\n",
    "print(score)"
   ]
  },
  {
   "attachments": {},
   "cell_type": "markdown",
   "metadata": {},
   "source": [
    "Drop Row:"
   ]
  },
  {
   "cell_type": "code",
   "execution_count": 169,
   "metadata": {},
   "outputs": [
    {
     "name": "stdout",
     "output_type": "stream",
     "text": [
      "Names\n",
      "ali     12.0\n",
      "reza    20.0\n",
      "Name: Grade, dtype: float64\n"
     ]
    }
   ],
   "source": [
    "score = score.drop(['omid', 'sara'])\n",
    "\n",
    "print(score)"
   ]
  },
  {
   "attachments": {},
   "cell_type": "markdown",
   "metadata": {},
   "source": [
    "Pop:"
   ]
  },
  {
   "cell_type": "code",
   "execution_count": 170,
   "metadata": {},
   "outputs": [
    {
     "name": "stdout",
     "output_type": "stream",
     "text": [
      "a    12\n",
      "b     4\n",
      "c     5\n",
      "d     7\n",
      "e     2\n",
      "dtype: int64\n"
     ]
    }
   ],
   "source": [
    "myser = pd.Series([12, 4, 5, 7, 2],\n",
    "                  index=['a', 'b', 'c', 'd', 'e'])\n",
    "\n",
    "print(myser)"
   ]
  },
  {
   "cell_type": "code",
   "execution_count": 171,
   "metadata": {},
   "outputs": [
    {
     "data": {
      "text/plain": [
       "5"
      ]
     },
     "execution_count": 171,
     "metadata": {},
     "output_type": "execute_result"
    }
   ],
   "source": [
    "myser.pop('c')  # Return item and drops from series. Raise KeyError if not found."
   ]
  },
  {
   "cell_type": "code",
   "execution_count": 172,
   "metadata": {},
   "outputs": [
    {
     "name": "stdout",
     "output_type": "stream",
     "text": [
      "a    12\n",
      "b     4\n",
      "d     7\n",
      "e     2\n",
      "dtype: int64\n"
     ]
    }
   ],
   "source": [
    "print(myser)"
   ]
  },
  {
   "attachments": {},
   "cell_type": "markdown",
   "metadata": {},
   "source": [
    "Missing values:"
   ]
  },
  {
   "cell_type": "code",
   "execution_count": 199,
   "metadata": {},
   "outputs": [
    {
     "name": "stdout",
     "output_type": "stream",
     "text": [
      "a    12.0\n",
      "b     4.0\n",
      "c     5.0\n",
      "d     NaN\n",
      "e     7.0\n",
      "f     2.0\n",
      "dtype: float64\n"
     ]
    }
   ],
   "source": [
    "s = pd.Series([12, 4, 5, np.nan, 7, 2],\n",
    "                  index=['a', 'b', 'c', 'd', 'e', 'f'])\n",
    "\n",
    "print(s)"
   ]
  },
  {
   "cell_type": "code",
   "execution_count": 200,
   "metadata": {},
   "outputs": [
    {
     "name": "stdout",
     "output_type": "stream",
     "text": [
      "a    False\n",
      "b    False\n",
      "c    False\n",
      "d     True\n",
      "e    False\n",
      "f    False\n",
      "dtype: bool\n",
      "\n",
      "1\n"
     ]
    }
   ],
   "source": [
    "print(s.isna())\n",
    "print()\n",
    "\n",
    "print(s.isna().sum())  # NaN values count"
   ]
  },
  {
   "cell_type": "code",
   "execution_count": 201,
   "metadata": {},
   "outputs": [
    {
     "name": "stdout",
     "output_type": "stream",
     "text": [
      "a     True\n",
      "b     True\n",
      "c     True\n",
      "d    False\n",
      "e     True\n",
      "f     True\n",
      "dtype: bool\n",
      "\n",
      "5\n"
     ]
    }
   ],
   "source": [
    "print(s.notna())\n",
    "print()\n",
    "\n",
    "print(s.notna().sum())  # not NaN values count"
   ]
  },
  {
   "cell_type": "code",
   "execution_count": 202,
   "metadata": {},
   "outputs": [
    {
     "name": "stdout",
     "output_type": "stream",
     "text": [
      "a    False\n",
      "b    False\n",
      "c     True\n",
      "d    False\n",
      "e    False\n",
      "f    False\n",
      "dtype: bool\n"
     ]
    }
   ],
   "source": [
    "print(s.isin([5]))"
   ]
  },
  {
   "attachments": {},
   "cell_type": "markdown",
   "metadata": {},
   "source": [
    "Sort:"
   ]
  },
  {
   "cell_type": "code",
   "execution_count": 209,
   "metadata": {},
   "outputs": [
    {
     "name": "stdout",
     "output_type": "stream",
     "text": [
      "a    12.0\n",
      "e     7.0\n",
      "c     5.0\n",
      "b     4.0\n",
      "f     2.0\n",
      "d     NaN\n",
      "dtype: float64\n"
     ]
    }
   ],
   "source": [
    "print(s.sort_values(ascending=False))"
   ]
  },
  {
   "cell_type": "code",
   "execution_count": 210,
   "metadata": {},
   "outputs": [
    {
     "name": "stdout",
     "output_type": "stream",
     "text": [
      "a    12.0\n",
      "b     4.0\n",
      "c     5.0\n",
      "d     NaN\n",
      "e     7.0\n",
      "f     2.0\n",
      "dtype: float64\n"
     ]
    }
   ],
   "source": [
    "print(s)"
   ]
  },
  {
   "attachments": {},
   "cell_type": "markdown",
   "metadata": {},
   "source": [
    "Rank of values:"
   ]
  },
  {
   "cell_type": "code",
   "execution_count": 207,
   "metadata": {},
   "outputs": [
    {
     "name": "stdout",
     "output_type": "stream",
     "text": [
      "a    5.0\n",
      "b    2.0\n",
      "c    3.0\n",
      "d    NaN\n",
      "e    4.0\n",
      "f    1.0\n",
      "dtype: float64\n"
     ]
    }
   ],
   "source": [
    "print(s.rank())"
   ]
  },
  {
   "attachments": {},
   "cell_type": "markdown",
   "metadata": {},
   "source": [
    "Duplicate indices/rows:"
   ]
  },
  {
   "cell_type": "code",
   "execution_count": 211,
   "metadata": {},
   "outputs": [
    {
     "name": "stdout",
     "output_type": "stream",
     "text": [
      "a    12\n",
      "b     4\n",
      "a     5\n",
      "d     7\n",
      "e     2\n",
      "dtype: int64\n"
     ]
    }
   ],
   "source": [
    "d = pd.Series([12, 4, 5, 7, 2],\n",
    "                  index=['a', 'b', 'a', 'd', 'e'])\n",
    "\n",
    "print(d)"
   ]
  },
  {
   "cell_type": "code",
   "execution_count": 212,
   "metadata": {},
   "outputs": [
    {
     "name": "stdout",
     "output_type": "stream",
     "text": [
      "a    12\n",
      "a     5\n",
      "dtype: int64\n"
     ]
    }
   ],
   "source": [
    "print(d['a'])"
   ]
  },
  {
   "cell_type": "code",
   "execution_count": 213,
   "metadata": {},
   "outputs": [
    {
     "name": "stdout",
     "output_type": "stream",
     "text": [
      "False\n"
     ]
    }
   ],
   "source": [
    "print(d.index.is_unique)"
   ]
  },
  {
   "cell_type": "code",
   "execution_count": 214,
   "metadata": {},
   "outputs": [
    {
     "name": "stdout",
     "output_type": "stream",
     "text": [
      "count     5.000000\n",
      "mean      6.000000\n",
      "std       3.807887\n",
      "min       2.000000\n",
      "25%       4.000000\n",
      "50%       5.000000\n",
      "75%       7.000000\n",
      "max      12.000000\n",
      "dtype: float64\n"
     ]
    }
   ],
   "source": [
    "print(d.describe())  # Generate descriptive statistics."
   ]
  },
  {
   "attachments": {},
   "cell_type": "markdown",
   "metadata": {},
   "source": [
    "in describe:"
   ]
  },
  {
   "cell_type": "code",
   "execution_count": 222,
   "metadata": {},
   "outputs": [
    {
     "name": "stdout",
     "output_type": "stream",
     "text": [
      "5\n",
      "6.0\n",
      "\n",
      "0.25    4.0\n",
      "0.50    5.0\n",
      "0.75    7.0\n",
      "0.80    8.0\n",
      "dtype: float64\n"
     ]
    }
   ],
   "source": [
    "print(d.count())\n",
    "print(d.mean())\n",
    "print()\n",
    "\n",
    "print(d.quantile([0.25, 0.5, 0.75, 0.8]))"
   ]
  },
  {
   "attachments": {},
   "cell_type": "markdown",
   "metadata": {},
   "source": [
    "Condition:"
   ]
  },
  {
   "cell_type": "code",
   "execution_count": 227,
   "metadata": {},
   "outputs": [
    {
     "name": "stdout",
     "output_type": "stream",
     "text": [
      "a    12\n",
      "b     4\n",
      "a     5\n",
      "d     7\n",
      "e     2\n",
      "dtype: int64\n"
     ]
    }
   ],
   "source": [
    "print(d)"
   ]
  },
  {
   "cell_type": "code",
   "execution_count": 228,
   "metadata": {},
   "outputs": [
    {
     "name": "stdout",
     "output_type": "stream",
     "text": [
      "a     True\n",
      "b    False\n",
      "a     True\n",
      "d     True\n",
      "e    False\n",
      "dtype: bool\n"
     ]
    }
   ],
   "source": [
    "print(d >= 5)"
   ]
  },
  {
   "cell_type": "code",
   "execution_count": 229,
   "metadata": {},
   "outputs": [
    {
     "name": "stdout",
     "output_type": "stream",
     "text": [
      "a    12.0\n",
      "b     NaN\n",
      "a     5.0\n",
      "d     7.0\n",
      "e     NaN\n",
      "dtype: float64\n"
     ]
    }
   ],
   "source": [
    "print(d.where(d >= 5))"
   ]
  },
  {
   "attachments": {},
   "cell_type": "markdown",
   "metadata": {},
   "source": [
    "Remove duplicate rows:"
   ]
  },
  {
   "cell_type": "code",
   "execution_count": 236,
   "metadata": {},
   "outputs": [
    {
     "name": "stdout",
     "output_type": "stream",
     "text": [
      "0    a\n",
      "1    a\n",
      "2    b\n",
      "3    e\n",
      "4    f\n",
      "5    a\n",
      "6    f\n",
      "7    d\n",
      "dtype: object\n"
     ]
    }
   ],
   "source": [
    "myser = pd.Series(['a', 'a', 'b', 'e', 'f',  'a', 'f', 'd'])\n",
    "\n",
    "print(myser)"
   ]
  },
  {
   "cell_type": "code",
   "execution_count": 237,
   "metadata": {},
   "outputs": [
    {
     "name": "stdout",
     "output_type": "stream",
     "text": [
      "0    False\n",
      "1     True\n",
      "2    False\n",
      "3    False\n",
      "4    False\n",
      "5     True\n",
      "6     True\n",
      "7    False\n",
      "dtype: bool\n",
      "\n",
      "3\n"
     ]
    }
   ],
   "source": [
    "print(myser.duplicated())\n",
    "print()\n",
    "\n",
    "print(myser.duplicated().sum())"
   ]
  },
  {
   "attachments": {},
   "cell_type": "markdown",
   "metadata": {},
   "source": [
    "`keep : {'first', 'last', False}`\\\n",
    "_default 'first'_\n",
    "    Method to handle dropping duplicates:\n",
    "\n",
    "- `'first'` : Drop duplicates except for the first occurrence.\n",
    "- `'last'` : Drop duplicates except for the last occurrence.\n",
    "- `False` : Drop all duplicates."
   ]
  },
  {
   "cell_type": "code",
   "execution_count": 238,
   "metadata": {},
   "outputs": [
    {
     "data": {
      "text/plain": [
       "0    a\n",
       "2    b\n",
       "3    e\n",
       "4    f\n",
       "7    d\n",
       "dtype: object"
      ]
     },
     "execution_count": 238,
     "metadata": {},
     "output_type": "execute_result"
    }
   ],
   "source": [
    "myser.drop_duplicates()  # Return Series with duplicate values removed."
   ]
  },
  {
   "cell_type": "code",
   "execution_count": 239,
   "metadata": {},
   "outputs": [
    {
     "name": "stdout",
     "output_type": "stream",
     "text": [
      "0    a\n",
      "1    a\n",
      "2    b\n",
      "3    e\n",
      "4    f\n",
      "5    a\n",
      "6    f\n",
      "7    d\n",
      "dtype: object\n"
     ]
    }
   ],
   "source": [
    "print(myser)"
   ]
  },
  {
   "cell_type": "code",
   "execution_count": 240,
   "metadata": {},
   "outputs": [
    {
     "data": {
      "text/plain": [
       "2    b\n",
       "3    e\n",
       "5    a\n",
       "6    f\n",
       "7    d\n",
       "dtype: object"
      ]
     },
     "execution_count": 240,
     "metadata": {},
     "output_type": "execute_result"
    }
   ],
   "source": [
    "myser.drop_duplicates(keep='last')"
   ]
  },
  {
   "attachments": {},
   "cell_type": "markdown",
   "metadata": {},
   "source": [
    "`prefix` and `suffix`:"
   ]
  },
  {
   "cell_type": "code",
   "execution_count": 241,
   "metadata": {},
   "outputs": [
    {
     "name": "stdout",
     "output_type": "stream",
     "text": [
      "0    1\n",
      "1    2\n",
      "2    3\n",
      "3    4\n",
      "dtype: int64\n"
     ]
    }
   ],
   "source": [
    "s = pd.Series([1, 2, 3, 4])\n",
    "print(s)"
   ]
  },
  {
   "cell_type": "code",
   "execution_count": 242,
   "metadata": {},
   "outputs": [
    {
     "data": {
      "text/plain": [
       "item_0    1\n",
       "item_1    2\n",
       "item_2    3\n",
       "item_3    4\n",
       "dtype: int64"
      ]
     },
     "execution_count": 242,
     "metadata": {},
     "output_type": "execute_result"
    }
   ],
   "source": [
    "s.add_prefix('item_')"
   ]
  },
  {
   "cell_type": "code",
   "execution_count": 244,
   "metadata": {},
   "outputs": [
    {
     "data": {
      "text/plain": [
       "item: 0    1\n",
       "item: 1    2\n",
       "item: 2    3\n",
       "item: 3    4\n",
       "dtype: int64"
      ]
     },
     "execution_count": 244,
     "metadata": {},
     "output_type": "execute_result"
    }
   ],
   "source": [
    "s.add_prefix('item: ')"
   ]
  },
  {
   "cell_type": "code",
   "execution_count": 246,
   "metadata": {},
   "outputs": [
    {
     "data": {
      "text/plain": [
       "0_item    1\n",
       "1_item    2\n",
       "2_item    3\n",
       "3_item    4\n",
       "dtype: int64"
      ]
     },
     "execution_count": 246,
     "metadata": {},
     "output_type": "execute_result"
    }
   ],
   "source": [
    "s.add_suffix('_item')"
   ]
  },
  {
   "cell_type": "code",
   "execution_count": 248,
   "metadata": {},
   "outputs": [
    {
     "name": "stdout",
     "output_type": "stream",
     "text": [
      "0_item    1\n",
      "1_item    2\n",
      "2_item    3\n",
      "3_item    4\n",
      "dtype: int64\n"
     ]
    }
   ],
   "source": [
    "w = s.add_suffix('_item')\n",
    "print(w)"
   ]
  },
  {
   "attachments": {},
   "cell_type": "markdown",
   "metadata": {},
   "source": [
    "Calculate on rows:"
   ]
  },
  {
   "cell_type": "code",
   "execution_count": 251,
   "metadata": {},
   "outputs": [
    {
     "name": "stdout",
     "output_type": "stream",
     "text": [
      "a     5.0\n",
      "b    15.0\n",
      "c     NaN\n",
      "d     NaN\n",
      "dtype: float64\n",
      "\n",
      "a     4.0\n",
      "b    50.0\n",
      "c     NaN\n",
      "d     NaN\n",
      "dtype: float64\n",
      "\n",
      "a    1.0\n",
      "b    0.0\n",
      "c    NaN\n",
      "d    NaN\n",
      "dtype: float64\n"
     ]
    }
   ],
   "source": [
    "a = pd.Series([1, 10, 3], index=['a', 'b', 'c'])\n",
    "b = pd.Series([4, 5, 6], index=['a', 'b', 'd'])\n",
    "\n",
    "\n",
    "print(a + b)\n",
    "print()\n",
    "\n",
    "print(a * b)\n",
    "print()\n",
    "\n",
    "print(a.mod(b))\n",
    "\n",
    "# and other math operations."
   ]
  },
  {
   "cell_type": "code",
   "execution_count": 253,
   "metadata": {},
   "outputs": [
    {
     "name": "stdout",
     "output_type": "stream",
     "text": [
      "a     5.0\n",
      "b    15.0\n",
      "c     3.0\n",
      "d     6.0\n",
      "dtype: float64\n",
      "\n",
      "a     4.0\n",
      "b    50.0\n",
      "c     0.0\n",
      "d     0.0\n",
      "dtype: float64\n"
     ]
    }
   ],
   "source": [
    "# NaN values fill by 0\n",
    "print(a.add(b, fill_value=0))  # a + b\n",
    "print()\n",
    "\n",
    "print(a.multiply(b, fill_value=0))  # a * b\n",
    "\n",
    "# and other math operations."
   ]
  },
  {
   "attachments": {},
   "cell_type": "markdown",
   "metadata": {},
   "source": [
    "Comparison operators:\n",
    "- `eq`: Equal.\n",
    "- `ne`: Not equal.\n",
    "- `gt`: Greater than.\n",
    "- `ge`: Greater equal. \n",
    "- `lt`: Less than.\n",
    "- `le`: Less equal."
   ]
  },
  {
   "cell_type": "code",
   "execution_count": 4,
   "metadata": {},
   "outputs": [],
   "source": [
    "s1 = pd.Series([8, 2, 12, 6, 5, 4])\n",
    "s2 = pd.Series([20, 2, 7, 6, 2, 1])"
   ]
  },
  {
   "cell_type": "code",
   "execution_count": 10,
   "metadata": {},
   "outputs": [
    {
     "name": "stdout",
     "output_type": "stream",
     "text": [
      "0    False\n",
      "1     True\n",
      "2    False\n",
      "3     True\n",
      "4    False\n",
      "5    False\n",
      "dtype: bool\n"
     ]
    }
   ],
   "source": [
    "print(s1.eq(s2))  # same with s1 == s2"
   ]
  },
  {
   "cell_type": "code",
   "execution_count": 11,
   "metadata": {},
   "outputs": [
    {
     "name": "stdout",
     "output_type": "stream",
     "text": [
      "0    False\n",
      "1    False\n",
      "2     True\n",
      "3    False\n",
      "4     True\n",
      "5     True\n",
      "dtype: bool\n"
     ]
    }
   ],
   "source": [
    "print(s1.gt(s2))  # same with s1 > s2"
   ]
  },
  {
   "cell_type": "code",
   "execution_count": 13,
   "metadata": {},
   "outputs": [
    {
     "name": "stdout",
     "output_type": "stream",
     "text": [
      "0    False\n",
      "1     True\n",
      "2     True\n",
      "3     True\n",
      "4     True\n",
      "5     True\n",
      "dtype: bool\n"
     ]
    }
   ],
   "source": [
    "print(s1.ge(s2))  # same with s1 >= s2"
   ]
  },
  {
   "attachments": {},
   "cell_type": "markdown",
   "metadata": {},
   "source": [
    "`argmax` and `argmin`:"
   ]
  },
  {
   "cell_type": "code",
   "execution_count": 14,
   "metadata": {},
   "outputs": [
    {
     "name": "stdout",
     "output_type": "stream",
     "text": [
      "Java      15\n",
      "C++       20\n",
      "Python    12\n",
      "Pascal     9\n",
      "dtype: int64\n"
     ]
    }
   ],
   "source": [
    "score = pd.Series({'Java': 15,\n",
    "                   'C++': 20,\n",
    "                   'Python': 12,\n",
    "                   'Pascal': 9})\n",
    "\n",
    "print(score)"
   ]
  },
  {
   "cell_type": "code",
   "execution_count": 22,
   "metadata": {},
   "outputs": [
    {
     "name": "stdout",
     "output_type": "stream",
     "text": [
      "1\n",
      "C++\n",
      "20\n"
     ]
    }
   ],
   "source": [
    "print(score.argmax())\n",
    "print(score.idxmax())  # Return the row label of the maximum value.\n",
    "print(score.max())"
   ]
  },
  {
   "cell_type": "code",
   "execution_count": 23,
   "metadata": {},
   "outputs": [
    {
     "name": "stdout",
     "output_type": "stream",
     "text": [
      "3\n",
      "Pascal\n",
      "9\n"
     ]
    }
   ],
   "source": [
    "print(score.argmin())\n",
    "print(score.idxmin())  # Return the row label of the minimum value.\n",
    "print(score.min())"
   ]
  },
  {
   "attachments": {},
   "cell_type": "markdown",
   "metadata": {},
   "source": [
    "_Cumulative sum_ and _Cumulative product_:"
   ]
  },
  {
   "cell_type": "code",
   "execution_count": 24,
   "metadata": {},
   "outputs": [
    {
     "name": "stdout",
     "output_type": "stream",
     "text": [
      "0    3.0\n",
      "1    2.0\n",
      "2    NaN\n",
      "3    5.0\n",
      "4    0.0\n",
      "dtype: float64\n"
     ]
    }
   ],
   "source": [
    "s = pd.Series([3, 2, np.nan, 5, 0])\n",
    "print(s)"
   ]
  },
  {
   "cell_type": "code",
   "execution_count": 26,
   "metadata": {},
   "outputs": [
    {
     "name": "stdout",
     "output_type": "stream",
     "text": [
      "0     3.0\n",
      "1     5.0\n",
      "2     NaN\n",
      "3    10.0\n",
      "4    10.0\n",
      "dtype: float64\n"
     ]
    }
   ],
   "source": [
    "print(s.cumsum())"
   ]
  },
  {
   "cell_type": "code",
   "execution_count": 27,
   "metadata": {},
   "outputs": [
    {
     "name": "stdout",
     "output_type": "stream",
     "text": [
      "0     3.0\n",
      "1     6.0\n",
      "2     NaN\n",
      "3    30.0\n",
      "4     0.0\n",
      "dtype: float64\n"
     ]
    }
   ],
   "source": [
    "print(s.cumprod())"
   ]
  },
  {
   "attachments": {},
   "cell_type": "markdown",
   "metadata": {},
   "source": [
    "Value count:"
   ]
  },
  {
   "cell_type": "code",
   "execution_count": 28,
   "metadata": {},
   "outputs": [
    {
     "name": "stdout",
     "output_type": "stream",
     "text": [
      "0    c\n",
      "1    a\n",
      "2    d\n",
      "3    a\n",
      "4    a\n",
      "5    c\n",
      "6    b\n",
      "7    b\n",
      "8    c\n",
      "9    c\n",
      "dtype: object\n"
     ]
    }
   ],
   "source": [
    "myser = pd.Series(['c', 'a', 'd', 'a', 'a', 'c', 'b', 'b', 'c', 'c'])\n",
    "print(myser)"
   ]
  },
  {
   "cell_type": "code",
   "execution_count": 32,
   "metadata": {},
   "outputs": [
    {
     "name": "stdout",
     "output_type": "stream",
     "text": [
      "c    4\n",
      "a    3\n",
      "b    2\n",
      "d    1\n",
      "dtype: int64\n"
     ]
    }
   ],
   "source": [
    "print(myser.value_counts())"
   ]
  },
  {
   "attachments": {},
   "cell_type": "markdown",
   "metadata": {},
   "source": [
    "or:"
   ]
  },
  {
   "cell_type": "code",
   "execution_count": 33,
   "metadata": {},
   "outputs": [
    {
     "name": "stdout",
     "output_type": "stream",
     "text": [
      "c    4\n",
      "a    3\n",
      "b    2\n",
      "d    1\n",
      "dtype: int64\n"
     ]
    }
   ],
   "source": [
    "print(pd.value_counts(myser))"
   ]
  },
  {
   "attachments": {},
   "cell_type": "markdown",
   "metadata": {},
   "source": [
    "Unique values:"
   ]
  },
  {
   "cell_type": "code",
   "execution_count": 34,
   "metadata": {},
   "outputs": [
    {
     "name": "stdout",
     "output_type": "stream",
     "text": [
      "['c' 'a' 'd' 'b']\n"
     ]
    }
   ],
   "source": [
    "print(myser.unique())"
   ]
  },
  {
   "attachments": {},
   "cell_type": "markdown",
   "metadata": {},
   "source": [
    "or:"
   ]
  },
  {
   "cell_type": "code",
   "execution_count": 37,
   "metadata": {},
   "outputs": [
    {
     "name": "stdout",
     "output_type": "stream",
     "text": [
      "['c' 'a' 'd' 'b']\n"
     ]
    }
   ],
   "source": [
    "print(pd.unique(myser))"
   ]
  },
  {
   "attachments": {},
   "cell_type": "markdown",
   "metadata": {},
   "source": [
    "Append:"
   ]
  },
  {
   "cell_type": "code",
   "execution_count": 40,
   "metadata": {},
   "outputs": [],
   "source": [
    "s1 = pd.Series([8, 2, 12, 6, 5, 4])\n",
    "s2 = pd.Series([20, 2, 7, 6, 2, 1])"
   ]
  },
  {
   "cell_type": "code",
   "execution_count": 41,
   "metadata": {},
   "outputs": [
    {
     "name": "stdout",
     "output_type": "stream",
     "text": [
      "0     8\n",
      "1     2\n",
      "2    12\n",
      "3     6\n",
      "4     5\n",
      "5     4\n",
      "0    20\n",
      "1     2\n",
      "2     7\n",
      "3     6\n",
      "4     2\n",
      "5     1\n",
      "dtype: int64\n"
     ]
    },
    {
     "name": "stderr",
     "output_type": "stream",
     "text": [
      "C:\\Users\\DELL\\AppData\\Local\\Temp\\ipykernel_11872\\2597536150.py:1: FutureWarning: The series.append method is deprecated and will be removed from pandas in a future version. Use pandas.concat instead.\n",
      "  print(s1.append(s2))\n"
     ]
    }
   ],
   "source": [
    "print(s1.append(s2))"
   ]
  },
  {
   "attachments": {},
   "cell_type": "markdown",
   "metadata": {},
   "source": [
    "or _(is better)_:"
   ]
  },
  {
   "cell_type": "code",
   "execution_count": 47,
   "metadata": {},
   "outputs": [
    {
     "name": "stdout",
     "output_type": "stream",
     "text": [
      "0      8\n",
      "1      2\n",
      "2     12\n",
      "3      6\n",
      "4      5\n",
      "5      4\n",
      "6     20\n",
      "7      2\n",
      "8      7\n",
      "9      6\n",
      "10     2\n",
      "11     1\n",
      "dtype: int64\n"
     ]
    }
   ],
   "source": [
    "print(pd.concat([s1, s2], ignore_index=True))"
   ]
  },
  {
   "attachments": {},
   "cell_type": "markdown",
   "metadata": {},
   "source": [
    "Combine:"
   ]
  },
  {
   "cell_type": "code",
   "execution_count": 48,
   "metadata": {},
   "outputs": [],
   "source": [
    "s1 = pd.Series({'ali': 16, 'sara': 17})\n",
    "s2 = pd.Series({'ali': 18, 'sara': 15, 'taha': 19})"
   ]
  },
  {
   "attachments": {},
   "cell_type": "markdown",
   "metadata": {},
   "source": [
    "Combine the Series with a Series or scalar according to `func`."
   ]
  },
  {
   "cell_type": "code",
   "execution_count": 56,
   "metadata": {},
   "outputs": [
    {
     "name": "stdout",
     "output_type": "stream",
     "text": [
      "ali     18.0\n",
      "sara    17.0\n",
      "taha     NaN\n",
      "dtype: float64\n"
     ]
    }
   ],
   "source": [
    "print(s1.combine(s2, func=max))"
   ]
  },
  {
   "cell_type": "code",
   "execution_count": 57,
   "metadata": {},
   "outputs": [
    {
     "name": "stdout",
     "output_type": "stream",
     "text": [
      "ali     18\n",
      "sara    17\n",
      "taha    19\n",
      "dtype: int64\n"
     ]
    }
   ],
   "source": [
    "print(s1.combine(s2, func=max, fill_value=0))"
   ]
  },
  {
   "cell_type": "code",
   "execution_count": 58,
   "metadata": {},
   "outputs": [
    {
     "name": "stdout",
     "output_type": "stream",
     "text": [
      "ali     16.0\n",
      "sara    15.0\n",
      "taha     NaN\n",
      "dtype: float64\n"
     ]
    }
   ],
   "source": [
    "print(s1.combine(s2, func=min))"
   ]
  },
  {
   "cell_type": "code",
   "execution_count": 59,
   "metadata": {},
   "outputs": [
    {
     "name": "stdout",
     "output_type": "stream",
     "text": [
      "ali     16\n",
      "sara    15\n",
      "taha     0\n",
      "dtype: int64\n"
     ]
    }
   ],
   "source": [
    "print(s1.combine(s2, func=min, fill_value=0))"
   ]
  },
  {
   "attachments": {},
   "cell_type": "markdown",
   "metadata": {},
   "source": [
    "apply:"
   ]
  },
  {
   "cell_type": "code",
   "execution_count": 66,
   "metadata": {},
   "outputs": [
    {
     "name": "stdout",
     "output_type": "stream",
     "text": [
      "0     10\n",
      "1      5\n",
      "2    100\n",
      "dtype: int64\n"
     ]
    }
   ],
   "source": [
    "myser = pd.Series([10, 5, 100])\n",
    "print(s)"
   ]
  },
  {
   "attachments": {},
   "cell_type": "markdown",
   "metadata": {},
   "source": [
    "`apply`: Invoke function on values of Series.\n"
   ]
  },
  {
   "cell_type": "code",
   "execution_count": 67,
   "metadata": {},
   "outputs": [
    {
     "name": "stdout",
     "output_type": "stream",
     "text": [
      "0    1.00000\n",
      "1    0.69897\n",
      "2    2.00000\n",
      "dtype: float64\n"
     ]
    }
   ],
   "source": [
    "print(myser.apply(func=np.log10))"
   ]
  },
  {
   "cell_type": "code",
   "execution_count": 70,
   "metadata": {},
   "outputs": [
    {
     "name": "stdout",
     "output_type": "stream",
     "text": [
      "0     3.162278\n",
      "1     2.236068\n",
      "2    10.000000\n",
      "dtype: float64\n"
     ]
    }
   ],
   "source": [
    "print(myser.apply(func=np.sqrt))"
   ]
  },
  {
   "cell_type": "code",
   "execution_count": 72,
   "metadata": {},
   "outputs": [
    {
     "name": "stdout",
     "output_type": "stream",
     "text": [
      "0      100\n",
      "1       25\n",
      "2    10000\n",
      "dtype: int64\n"
     ]
    }
   ],
   "source": [
    "def f(x):\n",
    "    return x**2\n",
    "\n",
    "print(myser.apply(f))"
   ]
  },
  {
   "attachments": {},
   "cell_type": "markdown",
   "metadata": {},
   "source": [
    "Or can use the below code _(but above codes is better)_:"
   ]
  },
  {
   "cell_type": "code",
   "execution_count": 75,
   "metadata": {},
   "outputs": [
    {
     "name": "stdout",
     "output_type": "stream",
     "text": [
      "0     3.162278\n",
      "1     2.236068\n",
      "2    10.000000\n",
      "dtype: float64\n",
      "\n",
      "0      100\n",
      "1       25\n",
      "2    10000\n",
      "dtype: int64\n"
     ]
    }
   ],
   "source": [
    "print(np.sqrt(myser))\n",
    "print()\n",
    "\n",
    "print(f(myser))"
   ]
  },
  {
   "attachments": {},
   "cell_type": "markdown",
   "metadata": {},
   "source": [
    "Using by `lambda` function:"
   ]
  },
  {
   "cell_type": "code",
   "execution_count": 76,
   "metadata": {},
   "outputs": [
    {
     "name": "stdout",
     "output_type": "stream",
     "text": [
      "0      100\n",
      "1       25\n",
      "2    10000\n",
      "dtype: int64\n"
     ]
    }
   ],
   "source": [
    "lam = lambda x: x**2\n",
    "\n",
    "print(myser.apply(lam))"
   ]
  },
  {
   "attachments": {},
   "cell_type": "markdown",
   "metadata": {},
   "source": [
    "Transform:"
   ]
  },
  {
   "cell_type": "code",
   "execution_count": 89,
   "metadata": {},
   "outputs": [
    {
     "name": "stdout",
     "output_type": "stream",
     "text": [
      "0    10\n",
      "1     4\n",
      "2     9\n",
      "dtype: int64\n"
     ]
    }
   ],
   "source": [
    "ser = pd.Series([10, 4, 9])\n",
    "print(ser)"
   ]
  },
  {
   "cell_type": "code",
   "execution_count": 90,
   "metadata": {},
   "outputs": [
    {
     "data": {
      "text/html": [
       "<div>\n",
       "<style scoped>\n",
       "    .dataframe tbody tr th:only-of-type {\n",
       "        vertical-align: middle;\n",
       "    }\n",
       "\n",
       "    .dataframe tbody tr th {\n",
       "        vertical-align: top;\n",
       "    }\n",
       "\n",
       "    .dataframe thead th {\n",
       "        text-align: right;\n",
       "    }\n",
       "</style>\n",
       "<table border=\"1\" class=\"dataframe\">\n",
       "  <thead>\n",
       "    <tr style=\"text-align: right;\">\n",
       "      <th></th>\n",
       "      <th>sqrt</th>\n",
       "      <th>log10</th>\n",
       "    </tr>\n",
       "  </thead>\n",
       "  <tbody>\n",
       "    <tr>\n",
       "      <th>0</th>\n",
       "      <td>3.162278</td>\n",
       "      <td>1.000000</td>\n",
       "    </tr>\n",
       "    <tr>\n",
       "      <th>1</th>\n",
       "      <td>2.000000</td>\n",
       "      <td>0.602060</td>\n",
       "    </tr>\n",
       "    <tr>\n",
       "      <th>2</th>\n",
       "      <td>3.000000</td>\n",
       "      <td>0.954243</td>\n",
       "    </tr>\n",
       "  </tbody>\n",
       "</table>\n",
       "</div>"
      ],
      "text/plain": [
       "       sqrt     log10\n",
       "0  3.162278  1.000000\n",
       "1  2.000000  0.602060\n",
       "2  3.000000  0.954243"
      ]
     },
     "execution_count": 90,
     "metadata": {},
     "output_type": "execute_result"
    }
   ],
   "source": [
    "ser.transform([np.sqrt, np.log10])"
   ]
  },
  {
   "attachments": {},
   "cell_type": "markdown",
   "metadata": {},
   "source": [
    "`agg` _(Aggregate)_:"
   ]
  },
  {
   "attachments": {},
   "cell_type": "markdown",
   "metadata": {},
   "source": [
    "Aggregate using one or more operations over the specified axis."
   ]
  },
  {
   "cell_type": "code",
   "execution_count": 97,
   "metadata": {},
   "outputs": [
    {
     "name": "stdout",
     "output_type": "stream",
     "text": [
      "0    10\n",
      "1     4\n",
      "2     9\n",
      "3     2\n",
      "4    18\n",
      "5     6\n",
      "dtype: int64\n"
     ]
    }
   ],
   "source": [
    "ser = pd.Series([10, 4, 9, 2, 18, 6])\n",
    "print(ser)"
   ]
  },
  {
   "cell_type": "code",
   "execution_count": 105,
   "metadata": {},
   "outputs": [
    {
     "name": "stdout",
     "output_type": "stream",
     "text": [
      "min      2.000000\n",
      "max     18.000000\n",
      "mean     8.166667\n",
      "var     32.166667\n",
      "std      5.671567\n",
      "dtype: float64\n"
     ]
    }
   ],
   "source": [
    "print(ser.agg(['min', 'max', 'mean', 'var', 'std']))"
   ]
  },
  {
   "attachments": {},
   "cell_type": "markdown",
   "metadata": {},
   "source": [
    "n Largest values:"
   ]
  },
  {
   "cell_type": "code",
   "execution_count": 106,
   "metadata": {},
   "outputs": [
    {
     "name": "stdout",
     "output_type": "stream",
     "text": [
      "a    6\n",
      "b    3\n",
      "c    8\n",
      "d    5\n",
      "e    9\n",
      "f    3\n",
      "g    5\n",
      "h    4\n",
      "i    5\n",
      "dtype: int64\n"
     ]
    }
   ],
   "source": [
    "data = {'a': 6, 'b': 3, 'c': 8, 'd': 5,\n",
    "        'e': 9, 'f': 3, 'g': 5, 'h': 4, 'i': 5}\n",
    "\n",
    "myser = pd.Series(data)\n",
    "print(myser)"
   ]
  },
  {
   "cell_type": "code",
   "execution_count": 114,
   "metadata": {},
   "outputs": [
    {
     "name": "stdout",
     "output_type": "stream",
     "text": [
      "e    9\n",
      "c    8\n",
      "a    6\n",
      "d    5\n",
      "dtype: int64\n"
     ]
    }
   ],
   "source": [
    "print(myser.nlargest(4))  # Return the largest n (default=5) elements."
   ]
  },
  {
   "cell_type": "code",
   "execution_count": 113,
   "metadata": {},
   "outputs": [
    {
     "name": "stdout",
     "output_type": "stream",
     "text": [
      "e    9\n",
      "c    8\n",
      "a    6\n",
      "i    5\n",
      "dtype: int64\n"
     ]
    }
   ],
   "source": [
    "print(myser.nlargest(4, keep='last'))\n"
   ]
  },
  {
   "attachments": {},
   "cell_type": "markdown",
   "metadata": {},
   "source": [
    "n Smallest values:"
   ]
  },
  {
   "cell_type": "code",
   "execution_count": 115,
   "metadata": {},
   "outputs": [
    {
     "name": "stdout",
     "output_type": "stream",
     "text": [
      "b    3\n",
      "f    3\n",
      "h    4\n",
      "d    5\n",
      "g    5\n",
      "dtype: int64\n"
     ]
    }
   ],
   "source": [
    "print(myser.nsmallest())"
   ]
  },
  {
   "attachments": {},
   "cell_type": "markdown",
   "metadata": {},
   "source": [
    "Group by:"
   ]
  },
  {
   "cell_type": "code",
   "execution_count": 127,
   "metadata": {},
   "outputs": [
    {
     "name": "stdout",
     "output_type": "stream",
     "text": [
      "BMW     220\n",
      "BMW     180\n",
      "Benz    230\n",
      "Benz    200\n",
      "Name: Max Speed, dtype: int64\n"
     ]
    }
   ],
   "source": [
    "cars_name = ['BMW', 'BMW', 'Benz', 'Benz']\n",
    "speed = [220, 180, 230, 200]\n",
    "\n",
    "data = pd.Series(speed, index=cars_name, name='Max Speed')\n",
    "print(data)"
   ]
  },
  {
   "cell_type": "code",
   "execution_count": 129,
   "metadata": {},
   "outputs": [
    {
     "name": "stdout",
     "output_type": "stream",
     "text": [
      "BMW     220\n",
      "Benz    230\n",
      "Name: Max Speed, dtype: int64\n"
     ]
    }
   ],
   "source": [
    "print(data.groupby(cars_name).max())"
   ]
  },
  {
   "cell_type": "code",
   "execution_count": 130,
   "metadata": {},
   "outputs": [
    {
     "name": "stdout",
     "output_type": "stream",
     "text": [
      "BMW     200.0\n",
      "Benz    215.0\n",
      "Name: Max Speed, dtype: float64\n"
     ]
    }
   ],
   "source": [
    "print(data.groupby(cars_name).mean())"
   ]
  },
  {
   "attachments": {},
   "cell_type": "markdown",
   "metadata": {},
   "source": [
    "Between:"
   ]
  },
  {
   "attachments": {},
   "cell_type": "markdown",
   "metadata": {},
   "source": [
    "`Between`: return boolean Series equivalent to _left <= series <= right_:"
   ]
  },
  {
   "cell_type": "code",
   "execution_count": 131,
   "metadata": {},
   "outputs": [
    {
     "name": "stdout",
     "output_type": "stream",
     "text": [
      "0    15\n",
      "1     9\n",
      "2    18\n",
      "3    20\n",
      "dtype: int64\n"
     ]
    }
   ],
   "source": [
    "s = pd.Series([15, 9, 18, 20])\n",
    "print(s)"
   ]
  },
  {
   "cell_type": "code",
   "execution_count": 132,
   "metadata": {},
   "outputs": [
    {
     "name": "stdout",
     "output_type": "stream",
     "text": [
      "0     True\n",
      "1    False\n",
      "2     True\n",
      "3     True\n",
      "dtype: bool\n"
     ]
    }
   ],
   "source": [
    "print(s.between(10, 20))"
   ]
  },
  {
   "attachments": {},
   "cell_type": "markdown",
   "metadata": {},
   "source": [
    "Drop Na:"
   ]
  },
  {
   "cell_type": "code",
   "execution_count": 133,
   "metadata": {},
   "outputs": [
    {
     "name": "stdout",
     "output_type": "stream",
     "text": [
      "0     7.0\n",
      "1     2.0\n",
      "2     NaN\n",
      "3    18.0\n",
      "4    34.0\n",
      "5     NaN\n",
      "dtype: float64\n"
     ]
    }
   ],
   "source": [
    "s = pd.Series([7, 2, np.nan, 18, 34, np.nan])\n",
    "print(s)"
   ]
  },
  {
   "cell_type": "code",
   "execution_count": 134,
   "metadata": {},
   "outputs": [
    {
     "name": "stdout",
     "output_type": "stream",
     "text": [
      "0     7.0\n",
      "1     2.0\n",
      "3    18.0\n",
      "4    34.0\n",
      "dtype: float64\n"
     ]
    }
   ],
   "source": [
    "print(s.dropna(inplace=False))"
   ]
  },
  {
   "attachments": {},
   "cell_type": "markdown",
   "metadata": {},
   "source": [
    "Pandas series to other Types:"
   ]
  },
  {
   "cell_type": "code",
   "execution_count": 151,
   "metadata": {},
   "outputs": [
    {
     "name": "stdout",
     "output_type": "stream",
     "text": [
      "<class 'pandas.core.series.Series'>\n",
      "0    15\n",
      "1     9\n",
      "2    18\n",
      "3    20\n",
      "dtype: int64\n"
     ]
    }
   ],
   "source": [
    "ser = pd.Series([15, 9, 18, 20])\n",
    "\n",
    "print(type(ser))\n",
    "print(ser)"
   ]
  },
  {
   "attachments": {},
   "cell_type": "markdown",
   "metadata": {},
   "source": [
    "- `.to_numpy()`\n",
    "- `.to_csv()`\n",
    "- `.to_dict()`\n",
    "- `.to_clipboard()`\n",
    "- and ..."
   ]
  },
  {
   "attachments": {},
   "cell_type": "markdown",
   "metadata": {},
   "source": [
    "example:"
   ]
  },
  {
   "cell_type": "code",
   "execution_count": 152,
   "metadata": {},
   "outputs": [
    {
     "name": "stdout",
     "output_type": "stream",
     "text": [
      "<class 'numpy.ndarray'>\n",
      "[15  9 18 20]\n"
     ]
    }
   ],
   "source": [
    "arr = ser.to_numpy()\n",
    "\n",
    "print(type(arr))\n",
    "print(arr)"
   ]
  },
  {
   "cell_type": "code",
   "execution_count": 153,
   "metadata": {},
   "outputs": [
    {
     "name": "stdout",
     "output_type": "stream",
     "text": [
      "<class 'dict'>\n",
      "{0: 15, 1: 9, 2: 18, 3: 20}\n"
     ]
    }
   ],
   "source": [
    "dict = ser.to_dict()\n",
    "\n",
    "print(type(dict))\n",
    "print(dict)"
   ]
  },
  {
   "attachments": {},
   "cell_type": "markdown",
   "metadata": {},
   "source": [
    "Numpy array to Pandas series:"
   ]
  },
  {
   "cell_type": "code",
   "execution_count": 154,
   "metadata": {},
   "outputs": [
    {
     "name": "stdout",
     "output_type": "stream",
     "text": [
      "<class 'pandas.core.series.Series'>\n",
      "0    15\n",
      "1     9\n",
      "2    18\n",
      "3    20\n",
      "dtype: int64\n"
     ]
    }
   ],
   "source": [
    "ser = pd.Series(arr)\n",
    "\n",
    "print(type(ser))\n",
    "print(ser)"
   ]
  },
  {
   "attachments": {},
   "cell_type": "markdown",
   "metadata": {},
   "source": [
    "Replace:"
   ]
  },
  {
   "cell_type": "code",
   "execution_count": 175,
   "metadata": {},
   "outputs": [
    {
     "name": "stdout",
     "output_type": "stream",
     "text": [
      "0    15\n",
      "1     9\n",
      "2     9\n",
      "3    18\n",
      "4     9\n",
      "5    20\n",
      "dtype: int64\n"
     ]
    }
   ],
   "source": [
    "s = pd.Series([15, 9, 9, 18, 9, 20])\n",
    "print(s)"
   ]
  },
  {
   "cell_type": "code",
   "execution_count": 176,
   "metadata": {},
   "outputs": [
    {
     "name": "stdout",
     "output_type": "stream",
     "text": [
      "0    15\n",
      "1    10\n",
      "2    10\n",
      "3    18\n",
      "4    10\n",
      "5    20\n",
      "dtype: int64\n"
     ]
    }
   ],
   "source": [
    "print(s.replace(to_replace=9, value=10, inplace=False))"
   ]
  },
  {
   "attachments": {},
   "cell_type": "markdown",
   "metadata": {},
   "source": [
    "Repeat:"
   ]
  },
  {
   "cell_type": "code",
   "execution_count": 163,
   "metadata": {},
   "outputs": [
    {
     "name": "stdout",
     "output_type": "stream",
     "text": [
      "0    15\n",
      "1     9\n",
      "2    18\n",
      "3     9\n",
      "4    20\n",
      "dtype: int64\n"
     ]
    }
   ],
   "source": [
    "s = pd.Series([15, 9, 18, 9, 20])\n",
    "print(s)"
   ]
  },
  {
   "cell_type": "code",
   "execution_count": 177,
   "metadata": {},
   "outputs": [
    {
     "name": "stdout",
     "output_type": "stream",
     "text": [
      "0    15\n",
      "0    15\n",
      "1     9\n",
      "1     9\n",
      "2     9\n",
      "2     9\n",
      "3    18\n",
      "3    18\n",
      "4     9\n",
      "4     9\n",
      "5    20\n",
      "5    20\n",
      "dtype: int64\n"
     ]
    }
   ],
   "source": [
    "print(s.repeat(2))"
   ]
  },
  {
   "attachments": {},
   "cell_type": "markdown",
   "metadata": {},
   "source": [
    "Multi index:"
   ]
  },
  {
   "cell_type": "code",
   "execution_count": 192,
   "metadata": {},
   "outputs": [],
   "source": [
    "cars = [['BMW', 'BMW', 'Benz', 'Benz'],\n",
    "        ['A', 'B', 'A', 'B']]\n",
    "\n",
    "speed = [220, 180, 230, 200]"
   ]
  },
  {
   "cell_type": "code",
   "execution_count": 193,
   "metadata": {},
   "outputs": [
    {
     "name": "stdout",
     "output_type": "stream",
     "text": [
      "Machine  Class\n",
      "BMW      A        220\n",
      "         B        180\n",
      "Benz     A        230\n",
      "         B        200\n",
      "dtype: int64\n"
     ]
    }
   ],
   "source": [
    "mi = pd.MultiIndex.from_arrays(cars, names=('Machine', 'Class'))\n",
    "data = pd.Series(speed, index=mi)\n",
    "\n",
    "print(data)"
   ]
  },
  {
   "attachments": {},
   "cell_type": "markdown",
   "metadata": {},
   "source": [
    "Group by _Machine_:"
   ]
  },
  {
   "cell_type": "code",
   "execution_count": 195,
   "metadata": {},
   "outputs": [
    {
     "data": {
      "text/plain": [
       "Machine\n",
       "BMW     220\n",
       "Benz    230\n",
       "dtype: int64"
      ]
     },
     "execution_count": 195,
     "metadata": {},
     "output_type": "execute_result"
    }
   ],
   "source": [
    "data.groupby(level='Machine').max()"
   ]
  },
  {
   "cell_type": "code",
   "execution_count": 197,
   "metadata": {},
   "outputs": [
    {
     "data": {
      "text/plain": [
       "Machine\n",
       "BMW     220\n",
       "Benz    230\n",
       "dtype: int64"
      ]
     },
     "execution_count": 197,
     "metadata": {},
     "output_type": "execute_result"
    }
   ],
   "source": [
    "data.groupby(level=0).max()"
   ]
  },
  {
   "attachments": {},
   "cell_type": "markdown",
   "metadata": {},
   "source": [
    "Group by _Class_:"
   ]
  },
  {
   "cell_type": "code",
   "execution_count": 196,
   "metadata": {},
   "outputs": [
    {
     "data": {
      "text/plain": [
       "Class\n",
       "A    230\n",
       "B    200\n",
       "dtype: int64"
      ]
     },
     "execution_count": 196,
     "metadata": {},
     "output_type": "execute_result"
    }
   ],
   "source": [
    "data.groupby(level='Class').max()"
   ]
  },
  {
   "cell_type": "code",
   "execution_count": 198,
   "metadata": {},
   "outputs": [
    {
     "data": {
      "text/plain": [
       "Class\n",
       "A    230\n",
       "B    200\n",
       "dtype: int64"
      ]
     },
     "execution_count": 198,
     "metadata": {},
     "output_type": "execute_result"
    }
   ],
   "source": [
    "data.groupby(level=1).max()"
   ]
  },
  {
   "attachments": {},
   "cell_type": "markdown",
   "metadata": {},
   "source": [
    "Data frame:"
   ]
  },
  {
   "cell_type": "code",
   "execution_count": null,
   "metadata": {},
   "outputs": [],
   "source": []
  }
 ],
 "metadata": {
  "kernelspec": {
   "display_name": "Python 3",
   "language": "python",
   "name": "python3"
  },
  "language_info": {
   "codemirror_mode": {
    "name": "ipython",
    "version": 3
   },
   "file_extension": ".py",
   "mimetype": "text/x-python",
   "name": "python",
   "nbconvert_exporter": "python",
   "pygments_lexer": "ipython3",
   "version": "3.11.0"
  },
  "orig_nbformat": 4
 },
 "nbformat": 4,
 "nbformat_minor": 2
}
